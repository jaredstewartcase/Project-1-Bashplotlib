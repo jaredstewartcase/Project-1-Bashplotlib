{
 "cells": [
  {
   "cell_type": "markdown",
   "metadata": {},
   "source": [
    "This Jupyter Notebook will merge all CSV files into one. It will also remove any items from the State column that is not an official US state. Verify by running dataframe[\"State\"].unique to get an array of state items that do not match the US states. Also duplicate reviews are removed from the dataframe so we do not include the same review in our analysis. Lastly the dataframe is sent to a new CSV to be used in the graphing and analysis section of the project."
   ]
  },
  {
   "cell_type": "code",
   "execution_count": null,
   "metadata": {},
   "outputs": [],
   "source": [
    "import pandas as pd"
   ]
  },
  {
   "cell_type": "code",
   "execution_count": 18,
   "metadata": {},
   "outputs": [],
   "source": [
    "data1=pd.read_csv(\"Merged.csv\")"
   ]
  },
  {
   "cell_type": "code",
   "execution_count": 19,
   "metadata": {},
   "outputs": [],
   "source": [
    "data3=pd.read_csv(\"Merged1_Milan.csv\")"
   ]
  },
  {
   "cell_type": "code",
   "execution_count": 20,
   "metadata": {},
   "outputs": [],
   "source": [
    "data2=pd.read_csv(\"Merged2.csv\")"
   ]
  },
  {
   "cell_type": "code",
   "execution_count": 21,
   "metadata": {},
   "outputs": [],
   "source": [
    "data4=pd.read_csv(\"Merged5.csv\")"
   ]
  },
  {
   "cell_type": "code",
   "execution_count": 22,
   "metadata": {},
   "outputs": [],
   "source": [
    "merged_set = pd.concat([data1, data2, data3, data4], ignore_index=True)"
   ]
  },
  {
   "cell_type": "code",
   "execution_count": 24,
   "metadata": {},
   "outputs": [
    {
     "data": {
      "text/plain": [
       "array(['KS', 'MO', 'NY', 'PA', 'OK', 'NC', 'TX', 'MA', 'TN', 'WA', 'OR',\n",
       "       'WI', 'OH', 'DE', 'IL', 'KY', 'MI', 'GA', 'RI', 'CA', 'UT', 'CT',\n",
       "       'FL', 'AL', 'IN', 'MN', 'MD', 'MT', 'AZ', 'AK', 'WV', 'NJ', 'VT',\n",
       "       'NH', 'NV', 'NM', 'SC', 'VA', 'CO', 'WY', 'MS', 'LA', 'AR', 'NE',\n",
       "       'IA', 'ND', 'DC', 'ID', 'ME', 'HI', 'SD'], dtype=object)"
      ]
     },
     "execution_count": 24,
     "metadata": {},
     "output_type": "execute_result"
    }
   ],
   "source": [
    "merged_set_non_us_states_removed = merged_set[merged_set.State != ('BC')]\n",
    "merged_set_non_us_states_removed = merged_set_non_us_states_removed[merged_set_non_us_states_removed.State != ('QC')]\n",
    "merged_set_non_us_states_removed = merged_set_non_us_states_removed[merged_set_non_us_states_removed.State != ('GLG')]\n",
    "merged_set_non_us_states_removed = merged_set_non_us_states_removed[merged_set_non_us_states_removed.State != ('EDH')]\n",
    "merged_set_non_us_states_removed = merged_set_non_us_states_removed[merged_set_non_us_states_removed.State != ('ESS')]\n",
    "merged_set_non_us_states_removed = merged_set_non_us_states_removed[merged_set_non_us_states_removed.State != ('AB')]\n",
    "merged_set_non_us_states_removed = merged_set_non_us_states_removed[merged_set_non_us_states_removed.State != ('TFW')]\n",
    "merged_set_non_us_states_removed = merged_set_non_us_states_removed[merged_set_non_us_states_removed.State != ('WOR')]\n",
    "merged_set_non_us_states_removed = merged_set_non_us_states_removed[merged_set_non_us_states_removed.State != ('STS')]\n",
    "merged_set_non_us_states_removed = merged_set_non_us_states_removed[merged_set_non_us_states_removed.State != ('DUD')]\n",
    "merged_set_non_us_states_removed = merged_set_non_us_states_removed[merged_set_non_us_states_removed.State != ('XWM')]\n",
    "merged_set_non_us_states_removed = merged_set_non_us_states_removed[merged_set_non_us_states_removed.State != ('SHR')]\n",
    "merged_set_non_us_states_removed = merged_set_non_us_states_removed[merged_set_non_us_states_removed.State != ('KEN')]\n",
    "merged_set_non_us_states_removed = merged_set_non_us_states_removed[merged_set_non_us_states_removed.State != ('THR')]\n",
    "merged_set_non_us_states_removed = merged_set_non_us_states_removed[merged_set_non_us_states_removed.State != ('NB')]\n",
    "merged_set_non_us_states_removed = merged_set_non_us_states_removed[merged_set_non_us_states_removed.State != ('HK')]\n",
    "merged_set_non_us_states_removed = merged_set_non_us_states_removed[merged_set_non_us_states_removed.State != ('D')]\n",
    "merged_set_non_us_states_removed = merged_set_non_us_states_removed[merged_set_non_us_states_removed.State != ('ON')]\n",
    "merged_set_non_us_states_removed = merged_set_non_us_states_removed[merged_set_non_us_states_removed.State != ('ACT')]\n",
    "merged_set_non_us_states_removed = merged_set_non_us_states_removed[merged_set_non_us_states_removed.State != ('XGL')]\n",
    "merged_set_non_us_states_removed = merged_set_non_us_states_removed[merged_set_non_us_states_removed.State != ('GLS')]\n",
    "merged_set_non_us_states_removed = merged_set_non_us_states_removed[merged_set_non_us_states_removed.State != ('BAS')]\n",
    "merged_set_non_us_states_removed = merged_set_non_us_states_removed[merged_set_non_us_states_removed.State != ('BST')]\n",
    "merged_set_non_us_states_removed = merged_set_non_us_states_removed[merged_set_non_us_states_removed.State != ('SG')]\n",
    "merged_set_non_us_states_removed = merged_set_non_us_states_removed[merged_set_non_us_states_removed.State != ('BC')]\n",
    "merged_set_non_us_states_removed = merged_set_non_us_states_removed[merged_set_non_us_states_removed.State != ('NTL')]\n",
    "merged_set_non_us_states_removed = merged_set_non_us_states_removed[merged_set_non_us_states_removed.State != ('SWA')]\n",
    "merged_set_non_us_states_removed = merged_set_non_us_states_removed[merged_set_non_us_states_removed.State != ('BGE')]\n",
    "merged_set_non_us_states_removed[\"State\"].unique()\n"
   ]
  },
  {
   "cell_type": "code",
   "execution_count": 26,
   "metadata": {},
   "outputs": [],
   "source": [
    "merged_set_no_duplicate_reviews=merged_set_non_us_states_removed.drop_duplicates(subset=['Review'], keep=False)"
   ]
  },
  {
   "cell_type": "code",
   "execution_count": 27,
   "metadata": {},
   "outputs": [],
   "source": [
    "merged_set_no_duplicate_reviews.to_csv(path_or_buf=\"more_reviews_no_duplicates.csv\", sep=',')"
   ]
  },
  {
   "cell_type": "code",
   "execution_count": null,
   "metadata": {},
   "outputs": [],
   "source": []
  }
 ],
 "metadata": {
  "kernelspec": {
   "display_name": "Python [conda env:PythonData]",
   "language": "python",
   "name": "conda-env-PythonData-py"
  },
  "language_info": {
   "codemirror_mode": {
    "name": "ipython",
    "version": 3
   },
   "file_extension": ".py",
   "mimetype": "text/x-python",
   "name": "python",
   "nbconvert_exporter": "python",
   "pygments_lexer": "ipython3",
   "version": "3.6.5"
  }
 },
 "nbformat": 4,
 "nbformat_minor": 2
}
