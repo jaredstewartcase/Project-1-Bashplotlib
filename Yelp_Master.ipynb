{
 "cells": [
  {
   "cell_type": "code",
   "execution_count": 173,
   "metadata": {},
   "outputs": [],
   "source": [
    "import pandas as pd\n",
    "import json\n",
    "import numpy as np\n",
    "import requests\n",
    "from config import (client_id, api_key)\n",
    "from pprint import pprint\n",
    "import pydbgen\n",
    "from pydbgen import pydbgen"
   ]
  },
  {
   "cell_type": "code",
   "execution_count": 174,
   "metadata": {},
   "outputs": [],
   "source": [
    "business_data={\"Business ID\":[],\n",
    "               \"Business Name\":[],\n",
    "               \"Business Alias\":[],\n",
    "               \"City\":[],\n",
    "               \"State\":[],\n",
    "               \"ZipCode\":[],\n",
    "               \"Lat\":[],\n",
    "               \"Long\":[],\n",
    "               \"Review Count\":[],\n",
    "               \"Rating\":[],\n",
    "              }\n",
    "review_data={\"Business ID\":[],\n",
    "             \"Review\":[],\n",
    "            }"
   ]
  },
  {
   "cell_type": "code",
   "execution_count": 182,
   "metadata": {},
   "outputs": [
    {
     "data": {
      "text/html": [
       "<div>\n",
       "<style scoped>\n",
       "    .dataframe tbody tr th:only-of-type {\n",
       "        vertical-align: middle;\n",
       "    }\n",
       "\n",
       "    .dataframe tbody tr th {\n",
       "        vertical-align: top;\n",
       "    }\n",
       "\n",
       "    .dataframe thead th {\n",
       "        text-align: right;\n",
       "    }\n",
       "</style>\n",
       "<table border=\"1\" class=\"dataframe\">\n",
       "  <thead>\n",
       "    <tr style=\"text-align: right;\">\n",
       "      <th></th>\n",
       "      <th>US Cities</th>\n",
       "    </tr>\n",
       "  </thead>\n",
       "  <tbody>\n",
       "    <tr>\n",
       "      <th>0</th>\n",
       "      <td>Artesian</td>\n",
       "    </tr>\n",
       "    <tr>\n",
       "      <th>1</th>\n",
       "      <td>Cranell</td>\n",
       "    </tr>\n",
       "  </tbody>\n",
       "</table>\n",
       "</div>"
      ],
      "text/plain": [
       "  US Cities\n",
       "0  Artesian\n",
       "1   Cranell"
      ]
     },
     "execution_count": 182,
     "metadata": {},
     "output_type": "execute_result"
    }
   ],
   "source": [
    "myDB=pydbgen.pydb()\n",
    "city=[]\n",
    "for cities in range(2):\n",
    "    city.append(myDB.city_real())\n",
    "city_yelp=pd.DataFrame(city)\n",
    "city_yelp=city_yelp.rename(columns={0:\"US Cities\"})\n",
    "city_yelp.head()"
   ]
  },
  {
   "cell_type": "code",
   "execution_count": 183,
   "metadata": {},
   "outputs": [],
   "source": [
    "api_key=api_key\n",
    "headers = {\"Authorization\": (f\"Bearer {api_key}\")}\n",
    "url=\"https://api.yelp.com/v3/businesses/search?\"\n",
    "review_url=\"https://api.yelp.com/v3/businesses/\"\n",
    "term=\"McDonald's\"\n",
    "radius = 400\n",
    "counter = 1"
   ]
  },
  {
   "cell_type": "code",
   "execution_count": 184,
   "metadata": {},
   "outputs": [],
   "source": [
    "for index, row in city_yelp.iterrows():\n",
    "    random_city = row['US Cities']\n",
    "    #print(f\"{counter}: {random_city}\")\n",
    "    yelp_response2 = requests.get((f\"{url}term={term}&location={random_city}&radius={radius}\"), headers=headers).json()\n",
    "    counter+=1\n",
    "    #print(len(yelp_response2[\"businesses\"]))\n",
    "    for x in range(len(yelp_response2[\"businesses\"])):\n",
    "        try:\n",
    "            business_data[\"Business ID\"].append(yelp_response2[\"businesses\"][x][\"id\"])\n",
    "            business_data[\"Business Name\"].append(yelp_response2[\"businesses\"][x][\"name\"])\n",
    "            business_data[\"Business Alias\"].append(yelp_response2[\"businesses\"][x][\"alias\"])\n",
    "            business_data[\"City\"].append(yelp_response2[\"businesses\"][x][\"location\"][\"city\"])\n",
    "            business_data[\"State\"].append(yelp_response2[\"businesses\"][x][\"location\"][\"state\"])\n",
    "            business_data[\"ZipCode\"].append(yelp_response2[\"businesses\"][x][\"location\"][\"zip_code\"])\n",
    "            business_data[\"Lat\"].append(yelp_response2[\"businesses\"][x][\"coordinates\"][\"latitude\"])\n",
    "            business_data[\"Long\"].append(yelp_response2[\"businesses\"][x][\"coordinates\"][\"longitude\"])\n",
    "            business_data[\"Review Count\"].append(yelp_response2[\"businesses\"][x][\"review_count\"])\n",
    "            business_data[\"Rating\"].append(yelp_response2[\"businesses\"][x][\"rating\"])\n",
    "        except: \n",
    "            print(f\"     No dining locations found in {random_city}.\")"
   ]
  },
  {
   "cell_type": "code",
   "execution_count": 185,
   "metadata": {},
   "outputs": [],
   "source": [
    "#pprint(yelp_response2)"
   ]
  },
  {
   "cell_type": "code",
   "execution_count": 186,
   "metadata": {},
   "outputs": [
    {
     "data": {
      "text/plain": [
       "{'Business ID': ['AY3EfUqP3aAP0LSUYTsoGw'],\n",
       " 'Business Name': ['Red Bandana'],\n",
       " 'Business Alias': ['red-bandana-sulphur'],\n",
       " 'City': ['Sulphur'],\n",
       " 'State': ['OK'],\n",
       " 'ZipCode': ['73086'],\n",
       " 'Lat': [34.5073252],\n",
       " 'Long': [-96.9700569],\n",
       " 'Review Count': [2],\n",
       " 'Rating': [3.0]}"
      ]
     },
     "execution_count": 186,
     "metadata": {},
     "output_type": "execute_result"
    }
   ],
   "source": [
    "business_data"
   ]
  },
  {
   "cell_type": "code",
   "execution_count": 187,
   "metadata": {},
   "outputs": [
    {
     "data": {
      "text/html": [
       "<div>\n",
       "<style scoped>\n",
       "    .dataframe tbody tr th:only-of-type {\n",
       "        vertical-align: middle;\n",
       "    }\n",
       "\n",
       "    .dataframe tbody tr th {\n",
       "        vertical-align: top;\n",
       "    }\n",
       "\n",
       "    .dataframe thead th {\n",
       "        text-align: right;\n",
       "    }\n",
       "</style>\n",
       "<table border=\"1\" class=\"dataframe\">\n",
       "  <thead>\n",
       "    <tr style=\"text-align: right;\">\n",
       "      <th></th>\n",
       "      <th>Business ID</th>\n",
       "      <th>Business Name</th>\n",
       "      <th>Business Alias</th>\n",
       "      <th>City</th>\n",
       "      <th>State</th>\n",
       "      <th>ZipCode</th>\n",
       "      <th>Lat</th>\n",
       "      <th>Long</th>\n",
       "      <th>Review Count</th>\n",
       "      <th>Rating</th>\n",
       "    </tr>\n",
       "  </thead>\n",
       "  <tbody>\n",
       "    <tr>\n",
       "      <th>0</th>\n",
       "      <td>AY3EfUqP3aAP0LSUYTsoGw</td>\n",
       "      <td>Red Bandana</td>\n",
       "      <td>red-bandana-sulphur</td>\n",
       "      <td>Sulphur</td>\n",
       "      <td>OK</td>\n",
       "      <td>73086</td>\n",
       "      <td>34.507325</td>\n",
       "      <td>-96.970057</td>\n",
       "      <td>2</td>\n",
       "      <td>3.0</td>\n",
       "    </tr>\n",
       "  </tbody>\n",
       "</table>\n",
       "</div>"
      ],
      "text/plain": [
       "              Business ID Business Name       Business Alias     City State  \\\n",
       "0  AY3EfUqP3aAP0LSUYTsoGw   Red Bandana  red-bandana-sulphur  Sulphur    OK   \n",
       "\n",
       "  ZipCode        Lat       Long  Review Count  Rating  \n",
       "0   73086  34.507325 -96.970057             2     3.0  "
      ]
     },
     "execution_count": 187,
     "metadata": {},
     "output_type": "execute_result"
    }
   ],
   "source": [
    "graph_data=pd.DataFrame.from_dict(business_data, orient='columns', dtype=None, columns=None)\n",
    "graph_data"
   ]
  },
  {
   "cell_type": "code",
   "execution_count": 181,
   "metadata": {},
   "outputs": [],
   "source": [
    "# for id in business_data[\"Business ID\"]:\n",
    "#     yelp_response3 = requests.get((f\"{review_url}{id}/reviews\"), headers=headers).json()\n",
    "#     pprint(yelp_response3)\n",
    "#     for x in range(len(yelp_response3[\"reviews\"])):\n",
    "#         try:\n",
    "#             review_data[\"Business ID\"].append(yelp_response3[\"reviews\"][x][\"id\"])\n",
    "#             review_data[\"Review\"].append(yelp_response3[\"reviews\"][x][\"text\"])\n",
    "#         except:\n",
    "#             print(\"skipping\")"
   ]
  },
  {
   "cell_type": "code",
   "execution_count": 164,
   "metadata": {},
   "outputs": [],
   "source": [
    "#review_data"
   ]
  },
  {
   "cell_type": "code",
   "execution_count": 165,
   "metadata": {},
   "outputs": [],
   "source": [
    "#graph_review=pd.DataFrame.from_dict(review_data, orient='columns', dtype=None, columns=None)\n",
    "#graph_review"
   ]
  },
  {
   "cell_type": "code",
   "execution_count": null,
   "metadata": {},
   "outputs": [],
   "source": []
  }
 ],
 "metadata": {
  "kernelspec": {
   "display_name": "Python [conda env:PythonData]",
   "language": "python",
   "name": "conda-env-PythonData-py"
  },
  "language_info": {
   "codemirror_mode": {
    "name": "ipython",
    "version": 3
   },
   "file_extension": ".py",
   "mimetype": "text/x-python",
   "name": "python",
   "nbconvert_exporter": "python",
   "pygments_lexer": "ipython3",
   "version": "3.6.5"
  }
 },
 "nbformat": 4,
 "nbformat_minor": 2
}
