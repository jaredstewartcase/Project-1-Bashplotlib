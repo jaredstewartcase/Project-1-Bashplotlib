{
 "cells": [
  {
   "cell_type": "markdown",
   "metadata": {},
   "source": [
    "<font size=6>PROJECT 1 - YELP REVIEWS -  \n",
    "    <font size=5>\n",
    "THIS WORKBOOK REQUESTS REVIEWS FOR VARIOUS LAWYERS / LAW FIRMS ACROSS RANDOM US CITIES\n",
    "</font>"
   ]
  },
  {
   "cell_type": "markdown",
   "metadata": {},
   "source": [
    "<font size=4>By: Kelly Kayser, Michael Obermire, Milan Chen, and Jared Case"
   ]
  },
  {
   "cell_type": "code",
   "execution_count": null,
   "metadata": {},
   "outputs": [],
   "source": [
    "import pandas as pd\n",
    "import json\n",
    "import numpy as np\n",
    "import requests\n",
    "from config import (client_id, api_key)\n",
    "from pprint import pprint\n",
    "import pydbgen\n",
    "from pydbgen import pydbgen\n",
    "from vaderSentiment.vaderSentiment import SentimentIntensityAnalyzer\n",
    "analyzer = SentimentIntensityAnalyzer()"
   ]
  },
  {
   "cell_type": "markdown",
   "metadata": {},
   "source": [
    "<font size=4>The code below creates a dictionary of lists called business_data to hold the values pulled from the Yelp api request."
   ]
  },
  {
   "cell_type": "code",
   "execution_count": null,
   "metadata": {},
   "outputs": [],
   "source": [
    "business_data={\"Business ID\":[],\n",
    "               \"Business Name\":[],\n",
    "               \"Business Alias\":[],\n",
    "               \"Category\":[],\n",
    "               \"City\":[],\n",
    "               \"State\":[],\n",
    "               \"ZipCode\":[],\n",
    "               \"Lat\":[],\n",
    "               \"Long\":[],\n",
    "               \"Review Count\":[],\n",
    "               \"Rating\":[],\n",
    "              }\n",
    "review_data={\"Business ID\":[],\n",
    "             \"Review\":[],\n",
    "            }"
   ]
  },
  {
   "cell_type": "markdown",
   "metadata": {},
   "source": [
    "<font size=4>This code below appends real US cities generated from pydbgen to a list called city. This list of cities will be passed through the Yelp api request as {locations}.  "
   ]
  },
  {
   "cell_type": "code",
   "execution_count": null,
   "metadata": {},
   "outputs": [],
   "source": [
    "myDB=pydbgen.pydb()\n",
    "city= []\n",
    "for x in range(600):\n",
    "    x=(myDB.city_real())\n",
    "    #print (x)\n",
    "    if x not in city:\n",
    "        city.append(x)\n",
    "city_yelp=pd.DataFrame(city)\n",
    "city_yelp=city_yelp.rename(columns={0:\"US Cities\"})"
   ]
  },
  {
   "cell_type": "markdown",
   "metadata": {},
   "source": [
    "<font size=4>The code below calls the api key, url address, and sets the required search criteria {category} to lawyers and the {radius} to 40,000 m from the {location}. "
   ]
  },
  {
   "cell_type": "code",
   "execution_count": null,
   "metadata": {},
   "outputs": [],
   "source": [
    "api_key=api_key\n",
    "headers = {\"Authorization\": (f\"Bearer {api_key}\")}\n",
    "url=\"https://api.yelp.com/v3/businesses/search?\"\n",
    "review_url=\"https://api.yelp.com/v3/businesses/\"\n",
    "categories=\"lawyers\"\n",
    "radius = 40000\n",
    "counter = 1"
   ]
  },
  {
   "cell_type": "markdown",
   "metadata": {},
   "source": [
    "<font size=4>The code below sets up a loop to pass the list of random cities through the Yelp api in order to obtain a list of lawyers / law firms within a 40,000 m radius of the {location}. The general information for each lawyer / law firm is appended to the dictionary titled business_data. When passing a city through the Yelp api and no busineses are returned, that city is skipped using the try/except function."
   ]
  },
  {
   "cell_type": "code",
   "execution_count": null,
   "metadata": {},
   "outputs": [],
   "source": [
    "for index, row in city_yelp.iterrows():\n",
    "    try:\n",
    "        random_city = row['US Cities']\n",
    "        print(f\"{counter}: {random_city}\")\n",
    "        yelp_response2 = requests.get((f\"{url}categories={categories}&location={random_city}&radius={radius}\"), headers=headers, verify=False).json()\n",
    "        #pprint(yelp_response2)\n",
    "        counter+=1\n",
    "    except:\n",
    "        print(f\"{counter}: Could not locate any lawyers in {random_city}.\")\n",
    "        #print(yelp_response2)\n",
    "    #print(len(yelp_response2[\"businesses\"]))\n",
    "    try:    \n",
    "        for x in range(len(yelp_response2[\"businesses\"])):\n",
    "            try:\n",
    "                business_data[\"Business ID\"].append(yelp_response2[\"businesses\"][x][\"id\"])\n",
    "                business_data[\"Business Name\"].append(yelp_response2[\"businesses\"][x][\"name\"])\n",
    "                business_data[\"Business Alias\"].append(yelp_response2[\"businesses\"][x][\"alias\"])\n",
    "                business_data[\"Category\"].append(yelp_response2[\"businesses\"][x][\"categories\"][0][\"alias\"])\n",
    "                business_data[\"City\"].append(yelp_response2[\"businesses\"][x][\"location\"][\"city\"])\n",
    "                business_data[\"State\"].append(yelp_response2[\"businesses\"][x][\"location\"][\"state\"])\n",
    "                business_data[\"ZipCode\"].append(yelp_response2[\"businesses\"][x][\"location\"][\"zip_code\"])\n",
    "                business_data[\"Lat\"].append(yelp_response2[\"businesses\"][x][\"coordinates\"][\"latitude\"])\n",
    "                business_data[\"Long\"].append(yelp_response2[\"businesses\"][x][\"coordinates\"][\"longitude\"])\n",
    "                business_data[\"Review Count\"].append(yelp_response2[\"businesses\"][x][\"review_count\"])\n",
    "                business_data[\"Rating\"].append(yelp_response2[\"businesses\"][x][\"rating\"])\n",
    "            except: \n",
    "                print(f\"     No law offices found in {random_city} using Yelp.com.\")\n",
    "    except:\n",
    "        print(f\"     No law offices found in {random_city} using Yelp.com.\")\n",
    "        counter+=1"
   ]
  },
  {
   "cell_type": "markdown",
   "metadata": {},
   "source": [
    "<font size=4>Converting the dictionary titled business_data to a dataframe titled graph_data"
   ]
  },
  {
   "cell_type": "code",
   "execution_count": null,
   "metadata": {},
   "outputs": [],
   "source": [
    "graph_data = pd.DataFrame({ key:pd.Series(value) for key, value in business_data.items() })"
   ]
  },
  {
   "cell_type": "markdown",
   "metadata": {},
   "source": [
    "<font size=4>The code below requests reviews and Yelp star ratings for each lawyer / law firm that had a {Business ID} obtained during the loop above. The {Business ID} is required when peforming the Yelp api request for reviews and Yelp star ratings. The review and Yelp star rating is stored in a dictionary titled review_data. If a company has no reviews associated with it, the company is skipped using the try/except function.  "
   ]
  },
  {
   "cell_type": "code",
   "execution_count": null,
   "metadata": {},
   "outputs": [],
   "source": [
    "for id in business_data[\"Business ID\"]:\n",
    "    try:\n",
    "        yelp_response3 = requests.get((f\"{review_url}{id}/reviews\"), headers=headers, verify=False).json()\n",
    "        pprint(yelp_response3)\n",
    "        print(f\"Fetching Reviews for {id}.\")\n",
    "    except:\n",
    "        print(f\"No Reviews for {id}.\")\n",
    "    try:\n",
    "        for x in range(len(yelp_response3[\"reviews\"])):\n",
    "            try:\n",
    "                review_data[\"Business ID\"].append(id)\n",
    "                review_data[\"Review\"].append(yelp_response3[\"reviews\"][x][\"text\"])\n",
    "            except:\n",
    "                print(\"skipping\")\n",
    "    except:\n",
    "        print(\"skipping\")"
   ]
  },
  {
   "cell_type": "markdown",
   "metadata": {},
   "source": [
    "<font size=4>The code below converts the dictionary titled review_data to a dataframe titled graph_review."
   ]
  },
  {
   "cell_type": "code",
   "execution_count": null,
   "metadata": {},
   "outputs": [],
   "source": [
    "graph_review = pd.DataFrame({ key:pd.Series(value) for key, value in review_data.items() })"
   ]
  },
  {
   "cell_type": "markdown",
   "metadata": {},
   "source": [
    "<font size=4>The code below creates a column named \"Compound\" and adds it to the dataframe titled graph_review. When running the sentiment analysis on each review, the sentiment compound result is appended to the dataframe titled graph_review under the column named \"Compound\". "
   ]
  },
  {
   "cell_type": "code",
   "execution_count": null,
   "metadata": {},
   "outputs": [],
   "source": [
    "graph_review[\"Compound\"]=\"\"\n",
    "graph_review.head()\n",
    "\n",
    "for index, row in graph_review.iterrows():\n",
    "    results = analyzer.polarity_scores(row[\"Review\"])\n",
    "    graph_review.loc[index, \"Compound\"] = results[\"compound\"]"
   ]
  },
  {
   "cell_type": "markdown",
   "metadata": {},
   "source": [
    "<font size=4>The code below creates a dataframe titled graph_data. This dataframe is the result of merging the general lawyer and law firm information with the lawyer and law firm review information."
   ]
  },
  {
   "cell_type": "code",
   "execution_count": null,
   "metadata": {},
   "outputs": [],
   "source": [
    "final=graph_review.merge(graph_data, on=\"Business ID\", how=\"left\")"
   ]
  },
  {
   "cell_type": "markdown",
   "metadata": {},
   "source": [
    "<font size=4>The code below sends the dataframe titled final to a .csv file in order to clean the data prior to performing graphical analysis."
   ]
  },
  {
   "cell_type": "code",
   "execution_count": null,
   "metadata": {},
   "outputs": [],
   "source": [
    "final.to_csv(path_or_buf=\"Merged6.csv\", sep=',')"
   ]
  }
 ],
 "metadata": {
  "celltoolbar": "Raw Cell Format",
  "kernelspec": {
   "display_name": "Python [conda env:PythonData]",
   "language": "python",
   "name": "conda-env-PythonData-py"
  },
  "language_info": {
   "codemirror_mode": {
    "name": "ipython",
    "version": 3
   },
   "file_extension": ".py",
   "mimetype": "text/x-python",
   "name": "python",
   "nbconvert_exporter": "python",
   "pygments_lexer": "ipython3",
   "version": "3.6.5"
  }
 },
 "nbformat": 4,
 "nbformat_minor": 2
}
