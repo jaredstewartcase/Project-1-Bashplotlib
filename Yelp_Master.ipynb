{
 "cells": [
  {
   "cell_type": "markdown",
   "metadata": {},
   "source": []
  },
  {
   "cell_type": "code",
   "execution_count": null,
   "metadata": {},
   "outputs": [],
   "source": [
    "import pandas as pd\n",
    "import json\n",
    "import numpy as np\n",
    "import requests\n",
    "from config import (client_id, api_key)\n",
    "from pprint import pprint\n",
    "import pydbgen\n",
    "from pydbgen import pydbgen\n",
    "from vaderSentiment.vaderSentiment import SentimentIntensityAnalyzer\n",
    "analyzer = SentimentIntensityAnalyzer()"
   ]
  },
  {
   "cell_type": "code",
   "execution_count": null,
   "metadata": {},
   "outputs": [],
   "source": [
    "business_data={\"Business ID\":[],\n",
    "               \"Business Name\":[],\n",
    "               \"Business Alias\":[],\n",
    "               \"Category\":[],\n",
    "               \"City\":[],\n",
    "               \"State\":[],\n",
    "               \"ZipCode\":[],\n",
    "               \"Lat\":[],\n",
    "               \"Long\":[],\n",
    "               \"Review Count\":[],\n",
    "               \"Rating\":[],\n",
    "              }\n",
    "review_data={\"Business ID\":[],\n",
    "             \"Review\":[],\n",
    "            }"
   ]
  },
  {
   "cell_type": "code",
   "execution_count": null,
   "metadata": {},
   "outputs": [],
   "source": [
    "myDB=pydbgen.pydb()\n",
    "city= []\n",
    "lat = []\n",
    "long = []\n",
    "for x in range(600):\n",
    "    x=(myDB.city_real())\n",
    "    #print (x)\n",
    "    if x not in city:\n",
    "        city.append(x)\n",
    "city_yelp=pd.DataFrame(city)\n",
    "city_yelp=city_yelp.rename(columns={0:\"US Cities\"})"
   ]
  },
  {
   "cell_type": "code",
   "execution_count": null,
   "metadata": {},
   "outputs": [],
   "source": [
    "api_key=api_key\n",
    "headers = {\"Authorization\": (f\"Bearer {api_key}\")}\n",
    "url=\"https://api.yelp.com/v3/businesses/search?\"\n",
    "review_url=\"https://api.yelp.com/v3/businesses/\"\n",
    "categories=\"lawyers\"\n",
    "radius = 40000\n",
    "counter = 1"
   ]
  },
  {
   "cell_type": "code",
   "execution_count": null,
   "metadata": {},
   "outputs": [],
   "source": [
    "for index, row in city_yelp.iterrows():\n",
    "    try:\n",
    "        random_city = row['US Cities']\n",
    "        print(f\"{counter}: {random_city}\")\n",
    "        yelp_response2 = requests.get((f\"{url}categories={categories}&location={random_city}&radius={radius}\"), headers=headers, verify=False).json()\n",
    "        #pprint(yelp_response2)\n",
    "        counter+=1\n",
    "    except:\n",
    "        print(f\"{counter}: Could not locate any lawyers in {random_city}.\")\n",
    "        #print(yelp_response2)\n",
    "    #print(len(yelp_response2[\"businesses\"]))\n",
    "    try:    \n",
    "        for x in range(len(yelp_response2[\"businesses\"])):\n",
    "            try:\n",
    "                business_data[\"Business ID\"].append(yelp_response2[\"businesses\"][x][\"id\"])\n",
    "                business_data[\"Business Name\"].append(yelp_response2[\"businesses\"][x][\"name\"])\n",
    "                business_data[\"Business Alias\"].append(yelp_response2[\"businesses\"][x][\"alias\"])\n",
    "                business_data[\"Category\"].append(yelp_response2[\"businesses\"][x][\"categories\"][0][\"alias\"])\n",
    "                business_data[\"City\"].append(yelp_response2[\"businesses\"][x][\"location\"][\"city\"])\n",
    "                business_data[\"State\"].append(yelp_response2[\"businesses\"][x][\"location\"][\"state\"])\n",
    "                business_data[\"ZipCode\"].append(yelp_response2[\"businesses\"][x][\"location\"][\"zip_code\"])\n",
    "                business_data[\"Lat\"].append(yelp_response2[\"businesses\"][x][\"coordinates\"][\"latitude\"])\n",
    "                business_data[\"Long\"].append(yelp_response2[\"businesses\"][x][\"coordinates\"][\"longitude\"])\n",
    "                business_data[\"Review Count\"].append(yelp_response2[\"businesses\"][x][\"review_count\"])\n",
    "                business_data[\"Rating\"].append(yelp_response2[\"businesses\"][x][\"rating\"])\n",
    "            except: \n",
    "                print(f\"     No law offices found in {random_city} using Yelp.com.\")\n",
    "    except:\n",
    "        print(f\"     No law offices found in {random_city} using Yelp.com.\")\n",
    "        counter+=1"
   ]
  },
  {
   "cell_type": "code",
   "execution_count": null,
   "metadata": {},
   "outputs": [],
   "source": [
    "graph_data = pd.DataFrame({ key:pd.Series(value) for key, value in business_data.items() })"
   ]
  },
  {
   "cell_type": "code",
   "execution_count": null,
   "metadata": {},
   "outputs": [],
   "source": [
    "for id in business_data[\"Business ID\"]:\n",
    "    try:\n",
    "        yelp_response3 = requests.get((f\"{review_url}{id}/reviews\"), headers=headers, verify=False).json()\n",
    "        pprint(yelp_response3)\n",
    "        print(f\"Fetching Reviews for {id}.\")\n",
    "    except:\n",
    "        print(f\"No Reviews for {id}.\")\n",
    "    try:\n",
    "        for x in range(len(yelp_response3[\"reviews\"])):\n",
    "            try:\n",
    "                review_data[\"Business ID\"].append(id)\n",
    "                review_data[\"Review\"].append(yelp_response3[\"reviews\"][x][\"text\"])\n",
    "            except:\n",
    "                print(\"skipping\")\n",
    "    except:\n",
    "        print(\"skipping\")"
   ]
  },
  {
   "cell_type": "code",
   "execution_count": null,
   "metadata": {},
   "outputs": [],
   "source": [
    "graph_review = pd.DataFrame({ key:pd.Series(value) for key, value in review_data.items() })"
   ]
  },
  {
   "cell_type": "code",
   "execution_count": null,
   "metadata": {},
   "outputs": [],
   "source": [
    "graph_review[\"Compound\"]=\"\"\n",
    "graph_review.head()\n",
    "\n",
    "for index, row in graph_review.iterrows():\n",
    "    results = analyzer.polarity_scores(row[\"Review\"])\n",
    "    graph_review.loc[index, \"Compound\"] = results[\"compound\"]"
   ]
  },
  {
   "cell_type": "code",
   "execution_count": null,
   "metadata": {},
   "outputs": [],
   "source": [
    "final=graph_review.merge(graph_data, on=\"Business ID\", how=\"left\")"
   ]
  },
  {
   "cell_type": "code",
   "execution_count": null,
   "metadata": {},
   "outputs": [],
   "source": [
    "final.to_csv(path_or_buf=\"Merged6.csv\", sep=',')"
   ]
  }
 ],
 "metadata": {
  "kernelspec": {
   "display_name": "Python [conda env:PythonData]",
   "language": "python",
   "name": "conda-env-PythonData-py"
  },
  "language_info": {
   "codemirror_mode": {
    "name": "ipython",
    "version": 3
   },
   "file_extension": ".py",
   "mimetype": "text/x-python",
   "name": "python",
   "nbconvert_exporter": "python",
   "pygments_lexer": "ipython3",
   "version": "3.6.5"
  }
 },
 "nbformat": 4,
 "nbformat_minor": 2
}
