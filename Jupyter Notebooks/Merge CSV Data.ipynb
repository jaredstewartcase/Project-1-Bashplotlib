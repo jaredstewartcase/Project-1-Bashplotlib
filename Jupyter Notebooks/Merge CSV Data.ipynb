{
 "cells": [
  {
   "cell_type": "markdown",
   "metadata": {},
   "source": [
    "<font size=6>PROJECT 1 - YELP REVIEWS -                                                    \n",
    "<font size=5>\n",
    "\n",
    "\n",
    "THIS WORKBOOK WILL CLEAN THE CSV OBTAINED FROM THE YELP_MASTER NOTEBOOK AND PREPARE IT FOR FURTHER GRAPHICAL ANALYSIS\n",
    "</font>"
   ]
  },
  {
   "cell_type": "markdown",
   "metadata": {},
   "source": [
    "<font size=4>By: Kelly Kayser, Michael Obermire, Milan Chen, and Jared Case"
   ]
  },
  {
   "cell_type": "code",
   "execution_count": null,
   "metadata": {},
   "outputs": [],
   "source": [
    "import pandas as pd"
   ]
  },
  {
   "cell_type": "markdown",
   "metadata": {},
   "source": [
    "<font size=4>The code below will read in the .csv files that were exported from the Yelp_Master notebook"
   ]
  },
  {
   "cell_type": "code",
   "execution_count": 18,
   "metadata": {},
   "outputs": [],
   "source": [
    "data1=pd.read_csv(\"Merged.csv\")"
   ]
  },
  {
   "cell_type": "code",
   "execution_count": 19,
   "metadata": {},
   "outputs": [],
   "source": [
    "data3=pd.read_csv(\"Merged1_Milan.csv\")"
   ]
  },
  {
   "cell_type": "code",
   "execution_count": 20,
   "metadata": {},
   "outputs": [],
   "source": [
    "data2=pd.read_csv(\"Merged2.csv\")"
   ]
  },
  {
   "cell_type": "code",
   "execution_count": 21,
   "metadata": {},
   "outputs": [],
   "source": [
    "data4=pd.read_csv(\"Merged5.csv\")"
   ]
  },
  {
   "cell_type": "code",
   "execution_count": 22,
   "metadata": {},
   "outputs": [],
   "source": [
    "merged_set = pd.concat([data1, data2, data3, data4], ignore_index=True)"
   ]
  },
  {
   "cell_type": "markdown",
   "metadata": {},
   "source": [
    "<font size=4>The code below will drop the entire row from the dataframe that have \"State\" abbreviations that are not apart of the 50 United States. This will allow the analysis to only be performed on lawyers inside the United States."
   ]
  },
  {
   "cell_type": "code",
   "execution_count": 24,
   "metadata": {},
   "outputs": [
    {
     "data": {
      "text/plain": [
       "array(['KS', 'MO', 'NY', 'PA', 'OK', 'NC', 'TX', 'MA', 'TN', 'WA', 'OR',\n",
       "       'WI', 'OH', 'DE', 'IL', 'KY', 'MI', 'GA', 'RI', 'CA', 'UT', 'CT',\n",
       "       'FL', 'AL', 'IN', 'MN', 'MD', 'MT', 'AZ', 'AK', 'WV', 'NJ', 'VT',\n",
       "       'NH', 'NV', 'NM', 'SC', 'VA', 'CO', 'WY', 'MS', 'LA', 'AR', 'NE',\n",
       "       'IA', 'ND', 'DC', 'ID', 'ME', 'HI', 'SD'], dtype=object)"
      ]
     },
     "execution_count": 24,
     "metadata": {},
     "output_type": "execute_result"
    }
   ],
   "source": [
    "merged_set_non_us_states_removed = merged_set[merged_set.State != ('BC')]\n",
    "merged_set_non_us_states_removed = merged_set_non_us_states_removed[merged_set_non_us_states_removed.State != ('QC')]\n",
    "merged_set_non_us_states_removed = merged_set_non_us_states_removed[merged_set_non_us_states_removed.State != ('GLG')]\n",
    "merged_set_non_us_states_removed = merged_set_non_us_states_removed[merged_set_non_us_states_removed.State != ('EDH')]\n",
    "merged_set_non_us_states_removed = merged_set_non_us_states_removed[merged_set_non_us_states_removed.State != ('ESS')]\n",
    "merged_set_non_us_states_removed = merged_set_non_us_states_removed[merged_set_non_us_states_removed.State != ('AB')]\n",
    "merged_set_non_us_states_removed = merged_set_non_us_states_removed[merged_set_non_us_states_removed.State != ('TFW')]\n",
    "merged_set_non_us_states_removed = merged_set_non_us_states_removed[merged_set_non_us_states_removed.State != ('WOR')]\n",
    "merged_set_non_us_states_removed = merged_set_non_us_states_removed[merged_set_non_us_states_removed.State != ('STS')]\n",
    "merged_set_non_us_states_removed = merged_set_non_us_states_removed[merged_set_non_us_states_removed.State != ('DUD')]\n",
    "merged_set_non_us_states_removed = merged_set_non_us_states_removed[merged_set_non_us_states_removed.State != ('XWM')]\n",
    "merged_set_non_us_states_removed = merged_set_non_us_states_removed[merged_set_non_us_states_removed.State != ('SHR')]\n",
    "merged_set_non_us_states_removed = merged_set_non_us_states_removed[merged_set_non_us_states_removed.State != ('KEN')]\n",
    "merged_set_non_us_states_removed = merged_set_non_us_states_removed[merged_set_non_us_states_removed.State != ('THR')]\n",
    "merged_set_non_us_states_removed = merged_set_non_us_states_removed[merged_set_non_us_states_removed.State != ('NB')]\n",
    "merged_set_non_us_states_removed = merged_set_non_us_states_removed[merged_set_non_us_states_removed.State != ('HK')]\n",
    "merged_set_non_us_states_removed = merged_set_non_us_states_removed[merged_set_non_us_states_removed.State != ('D')]\n",
    "merged_set_non_us_states_removed = merged_set_non_us_states_removed[merged_set_non_us_states_removed.State != ('ON')]\n",
    "merged_set_non_us_states_removed = merged_set_non_us_states_removed[merged_set_non_us_states_removed.State != ('ACT')]\n",
    "merged_set_non_us_states_removed = merged_set_non_us_states_removed[merged_set_non_us_states_removed.State != ('XGL')]\n",
    "merged_set_non_us_states_removed = merged_set_non_us_states_removed[merged_set_non_us_states_removed.State != ('GLS')]\n",
    "merged_set_non_us_states_removed = merged_set_non_us_states_removed[merged_set_non_us_states_removed.State != ('BAS')]\n",
    "merged_set_non_us_states_removed = merged_set_non_us_states_removed[merged_set_non_us_states_removed.State != ('BST')]\n",
    "merged_set_non_us_states_removed = merged_set_non_us_states_removed[merged_set_non_us_states_removed.State != ('SG')]\n",
    "merged_set_non_us_states_removed = merged_set_non_us_states_removed[merged_set_non_us_states_removed.State != ('BC')]\n",
    "merged_set_non_us_states_removed = merged_set_non_us_states_removed[merged_set_non_us_states_removed.State != ('NTL')]\n",
    "merged_set_non_us_states_removed = merged_set_non_us_states_removed[merged_set_non_us_states_removed.State != ('SWA')]\n",
    "merged_set_non_us_states_removed = merged_set_non_us_states_removed[merged_set_non_us_states_removed.State != ('BGE')]\n",
    "merged_set_non_us_states_removed[\"State\"].unique()\n"
   ]
  },
  {
   "cell_type": "markdown",
   "metadata": {},
   "source": [
    "<font size=4>The code below will drop any row that has a duplicated review for a given Business ID."
   ]
  },
  {
   "cell_type": "code",
   "execution_count": 40,
   "metadata": {},
   "outputs": [],
   "source": [
    "merged_set_no_duplicate_reviews=merged_set_non_us_states_removed.drop_duplicates(subset=['Review'], keep=False)"
   ]
  },
  {
   "cell_type": "code",
   "execution_count": 41,
   "metadata": {},
   "outputs": [],
   "source": [
    "merged_set_no_duplicate_reviews=merged_set_no_duplicate_reviews.drop(['Unnamed: 0'], axis=1)"
   ]
  },
  {
   "cell_type": "markdown",
   "metadata": {},
   "source": [
    "<font size=4>The code below will calculate the total review count for each lawyer type. Any category that has a calculated review count below 1000 will be dropped from the dataframe. The lawyer types that have a total review count of 1000 or more are listed below and a final dataframe is created with just their information. The dateframe is sent to a .csv file and will be used for further analytics. "
   ]
  },
  {
   "cell_type": "code",
   "execution_count": 136,
   "metadata": {},
   "outputs": [],
   "source": [
    "merged = merged_set_no_duplicate_reviews.groupby([\"Business ID\", \"Category\"])[\"Review Count\"].unique()\n",
    "merged = merged.str[0]\n",
    "merged = pd.DataFrame(merged)\n",
    "merged = merged.groupby(\"Category\").sum()\n",
    "merged = merged.reset_index()"
   ]
  },
  {
   "cell_type": "code",
   "execution_count": 135,
   "metadata": {},
   "outputs": [],
   "source": [
    "merged_set_removed_categories_below_1000 = merged_set_no_duplicate_reviews[(merged_set_no_duplicate_reviews.Category == \"realestatelawyers\") | \n",
    "                                                  (merged_set_no_duplicate_reviews.Category == \"personal_injury\")| \n",
    "                                                  (merged_set_no_duplicate_reviews.Category == \"immigrationlawyers\")|\n",
    "                                                  (merged_set_no_duplicate_reviews.Category == \"duilawyers\")|\n",
    "                                                  (merged_set_no_duplicate_reviews.Category == \"divorce\")|\n",
    "                                                  (merged_set_no_duplicate_reviews.Category == \"criminaldefense\")|\n",
    "                                                  (merged_set_no_duplicate_reviews.Category == \"bankruptcy\")\n",
    "                                                 ]\n",
    "\n",
    "merged_set_removed_categories_below_1000=merged_set_removed_categories_below_1000.reset_index()\n",
    "merged_set_removed_categories_below_1000=merged_set_removed_categories_below_1000.drop([\"index\"], axis=1)"
   ]
  },
  {
   "cell_type": "code",
   "execution_count": 134,
   "metadata": {},
   "outputs": [],
   "source": [
    "merged_set_removed_categories_below_1000.to_csv(path_or_buf=\"more_reviews_removed_below_1000.csv\", sep=',')"
   ]
  },
  {
   "cell_type": "code",
   "execution_count": null,
   "metadata": {},
   "outputs": [],
   "source": []
  }
 ],
 "metadata": {
  "kernelspec": {
   "display_name": "Python [conda env:PythonData]",
   "language": "python",
   "name": "conda-env-PythonData-py"
  },
  "language_info": {
   "codemirror_mode": {
    "name": "ipython",
    "version": 3
   },
   "file_extension": ".py",
   "mimetype": "text/x-python",
   "name": "python",
   "nbconvert_exporter": "python",
   "pygments_lexer": "ipython3",
   "version": "3.6.5"
  }
 },
 "nbformat": 4,
 "nbformat_minor": 2
}
