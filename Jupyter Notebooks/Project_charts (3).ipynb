{
  "nbformat": 4,
  "nbformat_minor": 0,
  "metadata": {
    "colab": {
      "name": "Project_charts.ipynb",
      "version": "0.3.2",
      "provenance": [],
      "collapsed_sections": [],
      "toc_visible": true
    },
    "kernelspec": {
      "name": "python3",
      "display_name": "Python 3"
    }
  },
  "cells": [
    {
      "metadata": {
        "id": "DwyUS053hSUO",
        "colab_type": "code",
        "colab": {}
      },
      "cell_type": "code",
      "source": [
        "import csv as csv\n",
        "import pandas as pd\n",
        "import numpy as np\n",
        "import matplotlib.pyplot as plt\n",
        "import gmaps\n",
        "import gmaps.datasets\n",
        "import numpy as np\n",
        "import requests\n",
        "import time\n",
        "from config import (gkey)"
      ],
      "execution_count": 0,
      "outputs": []
    },
    {
      "metadata": {
        "id": "2lYMYo2OidL8",
        "colab_type": "code",
        "colab": {
          "base_uri": "https://localhost:8080/",
          "height": 568
        },
        "outputId": "06eb731e-291a-40c9-803f-088160f53d51"
      },
      "cell_type": "code",
      "source": [
        "file = pd.read_csv(\"more_reviews_removed_below_1000.csv\")\n",
        "file.tail()"
      ],
      "execution_count": 7,
      "outputs": [
        {
          "output_type": "execute_result",
          "data": {
            "text/html": [
              "<div>\n",
              "<style scoped>\n",
              "    .dataframe tbody tr th:only-of-type {\n",
              "        vertical-align: middle;\n",
              "    }\n",
              "\n",
              "    .dataframe tbody tr th {\n",
              "        vertical-align: top;\n",
              "    }\n",
              "\n",
              "    .dataframe thead th {\n",
              "        text-align: right;\n",
              "    }\n",
              "</style>\n",
              "<table border=\"1\" class=\"dataframe\">\n",
              "  <thead>\n",
              "    <tr style=\"text-align: right;\">\n",
              "      <th></th>\n",
              "      <th>Unnamed: 0</th>\n",
              "      <th>Business ID</th>\n",
              "      <th>Review</th>\n",
              "      <th>Compound</th>\n",
              "      <th>Business Name</th>\n",
              "      <th>Business Alias</th>\n",
              "      <th>Category</th>\n",
              "      <th>City</th>\n",
              "      <th>State</th>\n",
              "      <th>ZipCode</th>\n",
              "      <th>Lat</th>\n",
              "      <th>Long</th>\n",
              "      <th>Review Count</th>\n",
              "      <th>Rating</th>\n",
              "    </tr>\n",
              "  </thead>\n",
              "  <tbody>\n",
              "    <tr>\n",
              "      <th>9450</th>\n",
              "      <td>34400</td>\n",
              "      <td>fwMct4BJGRKTIilaGaDPqA</td>\n",
              "      <td>For the first time in almost fifteen years of ...</td>\n",
              "      <td>0.7264</td>\n",
              "      <td>Chavez &amp; Valko</td>\n",
              "      <td>chavez-and-valko-dallas</td>\n",
              "      <td>immigrationlawyers</td>\n",
              "      <td>Dallas</td>\n",
              "      <td>TX</td>\n",
              "      <td>75231.0</td>\n",
              "      <td>32.892143</td>\n",
              "      <td>-96.768345</td>\n",
              "      <td>3</td>\n",
              "      <td>5.0</td>\n",
              "    </tr>\n",
              "    <tr>\n",
              "      <th>9451</th>\n",
              "      <td>34401</td>\n",
              "      <td>fwMct4BJGRKTIilaGaDPqA</td>\n",
              "      <td>Thank you to Martin Valko, and the entire team...</td>\n",
              "      <td>0.3612</td>\n",
              "      <td>Chavez &amp; Valko</td>\n",
              "      <td>chavez-and-valko-dallas</td>\n",
              "      <td>immigrationlawyers</td>\n",
              "      <td>Dallas</td>\n",
              "      <td>TX</td>\n",
              "      <td>75231.0</td>\n",
              "      <td>32.892143</td>\n",
              "      <td>-96.768345</td>\n",
              "      <td>3</td>\n",
              "      <td>5.0</td>\n",
              "    </tr>\n",
              "    <tr>\n",
              "      <th>9452</th>\n",
              "      <td>34405</td>\n",
              "      <td>Z2QzEPTUAKo-OKFh-N7Lsg</td>\n",
              "      <td>Ellen is truly phenomenal, her work ethics is ...</td>\n",
              "      <td>0.6997</td>\n",
              "      <td>Law Office Of Ellen Schutz</td>\n",
              "      <td>law-office-of-ellen-schutz-dallas</td>\n",
              "      <td>divorce</td>\n",
              "      <td>Dallas</td>\n",
              "      <td>TX</td>\n",
              "      <td>75231.0</td>\n",
              "      <td>32.889150</td>\n",
              "      <td>-96.768350</td>\n",
              "      <td>3</td>\n",
              "      <td>5.0</td>\n",
              "    </tr>\n",
              "    <tr>\n",
              "      <th>9453</th>\n",
              "      <td>34406</td>\n",
              "      <td>Z2QzEPTUAKo-OKFh-N7Lsg</td>\n",
              "      <td>Ms. Schutz is an outstanding family law attorn...</td>\n",
              "      <td>0.8484</td>\n",
              "      <td>Law Office Of Ellen Schutz</td>\n",
              "      <td>law-office-of-ellen-schutz-dallas</td>\n",
              "      <td>divorce</td>\n",
              "      <td>Dallas</td>\n",
              "      <td>TX</td>\n",
              "      <td>75231.0</td>\n",
              "      <td>32.889150</td>\n",
              "      <td>-96.768350</td>\n",
              "      <td>3</td>\n",
              "      <td>5.0</td>\n",
              "    </tr>\n",
              "    <tr>\n",
              "      <th>9454</th>\n",
              "      <td>34407</td>\n",
              "      <td>Z2QzEPTUAKo-OKFh-N7Lsg</td>\n",
              "      <td>Ellen will tell you like it is and not BS you....</td>\n",
              "      <td>0.8625</td>\n",
              "      <td>Law Office Of Ellen Schutz</td>\n",
              "      <td>law-office-of-ellen-schutz-dallas</td>\n",
              "      <td>divorce</td>\n",
              "      <td>Dallas</td>\n",
              "      <td>TX</td>\n",
              "      <td>75231.0</td>\n",
              "      <td>32.889150</td>\n",
              "      <td>-96.768350</td>\n",
              "      <td>3</td>\n",
              "      <td>5.0</td>\n",
              "    </tr>\n",
              "  </tbody>\n",
              "</table>\n",
              "</div>"
            ],
            "text/plain": [
              "      Unnamed: 0             Business ID  \\\n",
              "9450       34400  fwMct4BJGRKTIilaGaDPqA   \n",
              "9451       34401  fwMct4BJGRKTIilaGaDPqA   \n",
              "9452       34405  Z2QzEPTUAKo-OKFh-N7Lsg   \n",
              "9453       34406  Z2QzEPTUAKo-OKFh-N7Lsg   \n",
              "9454       34407  Z2QzEPTUAKo-OKFh-N7Lsg   \n",
              "\n",
              "                                                 Review  Compound  \\\n",
              "9450  For the first time in almost fifteen years of ...    0.7264   \n",
              "9451  Thank you to Martin Valko, and the entire team...    0.3612   \n",
              "9452  Ellen is truly phenomenal, her work ethics is ...    0.6997   \n",
              "9453  Ms. Schutz is an outstanding family law attorn...    0.8484   \n",
              "9454  Ellen will tell you like it is and not BS you....    0.8625   \n",
              "\n",
              "                   Business Name                     Business Alias  \\\n",
              "9450              Chavez & Valko            chavez-and-valko-dallas   \n",
              "9451              Chavez & Valko            chavez-and-valko-dallas   \n",
              "9452  Law Office Of Ellen Schutz  law-office-of-ellen-schutz-dallas   \n",
              "9453  Law Office Of Ellen Schutz  law-office-of-ellen-schutz-dallas   \n",
              "9454  Law Office Of Ellen Schutz  law-office-of-ellen-schutz-dallas   \n",
              "\n",
              "                Category    City State  ZipCode        Lat       Long  \\\n",
              "9450  immigrationlawyers  Dallas    TX  75231.0  32.892143 -96.768345   \n",
              "9451  immigrationlawyers  Dallas    TX  75231.0  32.892143 -96.768345   \n",
              "9452             divorce  Dallas    TX  75231.0  32.889150 -96.768350   \n",
              "9453             divorce  Dallas    TX  75231.0  32.889150 -96.768350   \n",
              "9454             divorce  Dallas    TX  75231.0  32.889150 -96.768350   \n",
              "\n",
              "      Review Count  Rating  \n",
              "9450             3     5.0  \n",
              "9451             3     5.0  \n",
              "9452             3     5.0  \n",
              "9453             3     5.0  \n",
              "9454             3     5.0  "
            ]
          },
          "metadata": {
            "tags": []
          },
          "execution_count": 7
        }
      ]
    },
    {
      "metadata": {
        "id": "-M5G_DKOkAlb",
        "colab_type": "code",
        "colab": {
          "base_uri": "https://localhost:8080/",
          "height": 195
        },
        "outputId": "6951efd2-e5a2-474f-ba40-51853fc33db2"
      },
      "cell_type": "code",
      "source": [
        "category_df = file[[\"Business ID\", \"Category\", \"Compound\"]]\n",
        "category_df.head()"
      ],
      "execution_count": 8,
      "outputs": [
        {
          "output_type": "execute_result",
          "data": {
            "text/html": [
              "<div>\n",
              "<style scoped>\n",
              "    .dataframe tbody tr th:only-of-type {\n",
              "        vertical-align: middle;\n",
              "    }\n",
              "\n",
              "    .dataframe tbody tr th {\n",
              "        vertical-align: top;\n",
              "    }\n",
              "\n",
              "    .dataframe thead th {\n",
              "        text-align: right;\n",
              "    }\n",
              "</style>\n",
              "<table border=\"1\" class=\"dataframe\">\n",
              "  <thead>\n",
              "    <tr style=\"text-align: right;\">\n",
              "      <th></th>\n",
              "      <th>Business ID</th>\n",
              "      <th>Category</th>\n",
              "      <th>Compound</th>\n",
              "    </tr>\n",
              "  </thead>\n",
              "  <tbody>\n",
              "    <tr>\n",
              "      <th>0</th>\n",
              "      <td>f3rkiilfzZVJlK0oxsmjqQ</td>\n",
              "      <td>lawyers</td>\n",
              "      <td>0.6369</td>\n",
              "    </tr>\n",
              "    <tr>\n",
              "      <th>1</th>\n",
              "      <td>f3rkiilfzZVJlK0oxsmjqQ</td>\n",
              "      <td>lawyers</td>\n",
              "      <td>0.5853</td>\n",
              "    </tr>\n",
              "    <tr>\n",
              "      <th>2</th>\n",
              "      <td>f3rkiilfzZVJlK0oxsmjqQ</td>\n",
              "      <td>lawyers</td>\n",
              "      <td>0.4767</td>\n",
              "    </tr>\n",
              "    <tr>\n",
              "      <th>3</th>\n",
              "      <td>t7LBdL4HifGJlMbn92WX7g</td>\n",
              "      <td>criminaldefense</td>\n",
              "      <td>0.6523</td>\n",
              "    </tr>\n",
              "    <tr>\n",
              "      <th>4</th>\n",
              "      <td>t7LBdL4HifGJlMbn92WX7g</td>\n",
              "      <td>criminaldefense</td>\n",
              "      <td>0.8591</td>\n",
              "    </tr>\n",
              "  </tbody>\n",
              "</table>\n",
              "</div>"
            ],
            "text/plain": [
              "              Business ID         Category  Compound\n",
              "0  f3rkiilfzZVJlK0oxsmjqQ          lawyers    0.6369\n",
              "1  f3rkiilfzZVJlK0oxsmjqQ          lawyers    0.5853\n",
              "2  f3rkiilfzZVJlK0oxsmjqQ          lawyers    0.4767\n",
              "3  t7LBdL4HifGJlMbn92WX7g  criminaldefense    0.6523\n",
              "4  t7LBdL4HifGJlMbn92WX7g  criminaldefense    0.8591"
            ]
          },
          "metadata": {
            "tags": []
          },
          "execution_count": 8
        }
      ]
    },
    {
      "metadata": {
        "id": "KoxoFKillM1M",
        "colab_type": "code",
        "colab": {
          "base_uri": "https://localhost:8080/",
          "height": 225
        },
        "outputId": "0b1b2dbf-ab84-4fda-c655-c0d358e484a5"
      },
      "cell_type": "code",
      "source": [
        "compound_df = category_df.groupby(\"Category\").mean().sort_values(\"Compound\")\n",
        "compound_df.reset_index()\n",
        "compound_df.head()\n"
      ],
      "execution_count": 20,
      "outputs": [
        {
          "output_type": "execute_result",
          "data": {
            "text/html": [
              "<div>\n",
              "<style scoped>\n",
              "    .dataframe tbody tr th:only-of-type {\n",
              "        vertical-align: middle;\n",
              "    }\n",
              "\n",
              "    .dataframe tbody tr th {\n",
              "        vertical-align: top;\n",
              "    }\n",
              "\n",
              "    .dataframe thead th {\n",
              "        text-align: right;\n",
              "    }\n",
              "</style>\n",
              "<table border=\"1\" class=\"dataframe\">\n",
              "  <thead>\n",
              "    <tr style=\"text-align: right;\">\n",
              "      <th></th>\n",
              "      <th>Compound</th>\n",
              "    </tr>\n",
              "    <tr>\n",
              "      <th>Category</th>\n",
              "      <th></th>\n",
              "    </tr>\n",
              "  </thead>\n",
              "  <tbody>\n",
              "    <tr>\n",
              "      <th>insurance</th>\n",
              "      <td>-0.649600</td>\n",
              "    </tr>\n",
              "    <tr>\n",
              "      <th>publicservicesgovt</th>\n",
              "      <td>-0.270600</td>\n",
              "    </tr>\n",
              "    <tr>\n",
              "      <th>nonprofit</th>\n",
              "      <td>-0.029386</td>\n",
              "    </tr>\n",
              "    <tr>\n",
              "      <th>chiropractors</th>\n",
              "      <td>0.009550</td>\n",
              "    </tr>\n",
              "    <tr>\n",
              "      <th>realestate</th>\n",
              "      <td>0.064400</td>\n",
              "    </tr>\n",
              "  </tbody>\n",
              "</table>\n",
              "</div>"
            ],
            "text/plain": [
              "                    Compound\n",
              "Category                    \n",
              "insurance          -0.649600\n",
              "publicservicesgovt -0.270600\n",
              "nonprofit          -0.029386\n",
              "chiropractors       0.009550\n",
              "realestate          0.064400"
            ]
          },
          "metadata": {
            "tags": []
          },
          "execution_count": 20
        }
      ]
    },
    {
      "metadata": {
        "id": "15DU8oRonK5N",
        "colab_type": "code",
        "colab": {
          "base_uri": "https://localhost:8080/",
          "height": 195
        },
        "outputId": "9f8694ee-5035-4007-e916-457d2a2f761b"
      },
      "cell_type": "code",
      "source": [
        "review_df = file[[\"Category\", \"Business ID\", \"Review Count\"]]\n",
        "review_count = review_df.groupby([\"Business ID\"])[\"Review Count\"].unique()\n",
        "review_count = review_count.str[0]\n",
        "review_count\n",
        "\n",
        "review_df = pd.DataFrame(review_count)\n",
        "review_df = review_df.reset_index()\n",
        "review_df.head()\n"
      ],
      "execution_count": 21,
      "outputs": [
        {
          "output_type": "execute_result",
          "data": {
            "text/html": [
              "<div>\n",
              "<style scoped>\n",
              "    .dataframe tbody tr th:only-of-type {\n",
              "        vertical-align: middle;\n",
              "    }\n",
              "\n",
              "    .dataframe tbody tr th {\n",
              "        vertical-align: top;\n",
              "    }\n",
              "\n",
              "    .dataframe thead th {\n",
              "        text-align: right;\n",
              "    }\n",
              "</style>\n",
              "<table border=\"1\" class=\"dataframe\">\n",
              "  <thead>\n",
              "    <tr style=\"text-align: right;\">\n",
              "      <th></th>\n",
              "      <th>Business ID</th>\n",
              "      <th>Review Count</th>\n",
              "    </tr>\n",
              "  </thead>\n",
              "  <tbody>\n",
              "    <tr>\n",
              "      <th>0</th>\n",
              "      <td>--8c8rXzv02dPgcnsnu2cg</td>\n",
              "      <td>3</td>\n",
              "    </tr>\n",
              "    <tr>\n",
              "      <th>1</th>\n",
              "      <td>-03IpI8s4LZ9Z-6gHXcTAw</td>\n",
              "      <td>12</td>\n",
              "    </tr>\n",
              "    <tr>\n",
              "      <th>2</th>\n",
              "      <td>-0Mgg34kk6Ak0rZNY5Hkig</td>\n",
              "      <td>3</td>\n",
              "    </tr>\n",
              "    <tr>\n",
              "      <th>3</th>\n",
              "      <td>-0ZnXRjvcbe5WmlVX2sYRA</td>\n",
              "      <td>2</td>\n",
              "    </tr>\n",
              "    <tr>\n",
              "      <th>4</th>\n",
              "      <td>-0_T6Y1UHTUy4zEtzVckjg</td>\n",
              "      <td>2</td>\n",
              "    </tr>\n",
              "  </tbody>\n",
              "</table>\n",
              "</div>"
            ],
            "text/plain": [
              "              Business ID  Review Count\n",
              "0  --8c8rXzv02dPgcnsnu2cg             3\n",
              "1  -03IpI8s4LZ9Z-6gHXcTAw            12\n",
              "2  -0Mgg34kk6Ak0rZNY5Hkig             3\n",
              "3  -0ZnXRjvcbe5WmlVX2sYRA             2\n",
              "4  -0_T6Y1UHTUy4zEtzVckjg             2"
            ]
          },
          "metadata": {
            "tags": []
          },
          "execution_count": 21
        }
      ]
    },
    {
      "metadata": {
        "id": "WSlQ4dYjomZE",
        "colab_type": "code",
        "colab": {
          "base_uri": "https://localhost:8080/",
          "height": 373
        },
        "outputId": "bb74a9af-defe-484f-b24d-99f5f7196339"
      },
      "cell_type": "code",
      "source": [
        "category_df_nocompound = file[[\"Business ID\", \"Category\"]]\n",
        "\n",
        "merged = category_df_nocompound.merge(review_df, on = \"Business ID\", how = \"outer\")\n",
        "merged = merged.groupby([\"Business ID\", \"Category\"])[\"Review Count\"].unique()\n",
        "merged = merged.str[0]\n",
        "merged = pd.DataFrame(merged)\n",
        "merged = merged.groupby(\"Category\").sum()\n",
        "merged = merged.sort_values(\"Review Count\")\n",
        "\n",
        "merged.tail(10 )\n",
        "\n"
      ],
      "execution_count": 50,
      "outputs": [
        {
          "output_type": "execute_result",
          "data": {
            "text/html": [
              "<div>\n",
              "<style scoped>\n",
              "    .dataframe tbody tr th:only-of-type {\n",
              "        vertical-align: middle;\n",
              "    }\n",
              "\n",
              "    .dataframe tbody tr th {\n",
              "        vertical-align: top;\n",
              "    }\n",
              "\n",
              "    .dataframe thead th {\n",
              "        text-align: right;\n",
              "    }\n",
              "</style>\n",
              "<table border=\"1\" class=\"dataframe\">\n",
              "  <thead>\n",
              "    <tr style=\"text-align: right;\">\n",
              "      <th></th>\n",
              "      <th>Review Count</th>\n",
              "    </tr>\n",
              "    <tr>\n",
              "      <th>Category</th>\n",
              "      <th></th>\n",
              "    </tr>\n",
              "  </thead>\n",
              "  <tbody>\n",
              "    <tr>\n",
              "      <th>employmentlawyers</th>\n",
              "      <td>887</td>\n",
              "    </tr>\n",
              "    <tr>\n",
              "      <th>businesslawyers</th>\n",
              "      <td>892</td>\n",
              "    </tr>\n",
              "    <tr>\n",
              "      <th>realestatelawyers</th>\n",
              "      <td>1411</td>\n",
              "    </tr>\n",
              "    <tr>\n",
              "      <th>immigrationlawyers</th>\n",
              "      <td>1418</td>\n",
              "    </tr>\n",
              "    <tr>\n",
              "      <th>bankruptcy</th>\n",
              "      <td>1799</td>\n",
              "    </tr>\n",
              "    <tr>\n",
              "      <th>lawyers</th>\n",
              "      <td>1959</td>\n",
              "    </tr>\n",
              "    <tr>\n",
              "      <th>duilawyers</th>\n",
              "      <td>2154</td>\n",
              "    </tr>\n",
              "    <tr>\n",
              "      <th>criminaldefense</th>\n",
              "      <td>4148</td>\n",
              "    </tr>\n",
              "    <tr>\n",
              "      <th>divorce</th>\n",
              "      <td>4232</td>\n",
              "    </tr>\n",
              "    <tr>\n",
              "      <th>personal_injury</th>\n",
              "      <td>6942</td>\n",
              "    </tr>\n",
              "  </tbody>\n",
              "</table>\n",
              "</div>"
            ],
            "text/plain": [
              "                    Review Count\n",
              "Category                        \n",
              "employmentlawyers            887\n",
              "businesslawyers              892\n",
              "realestatelawyers           1411\n",
              "immigrationlawyers          1418\n",
              "bankruptcy                  1799\n",
              "lawyers                     1959\n",
              "duilawyers                  2154\n",
              "criminaldefense             4148\n",
              "divorce                     4232\n",
              "personal_injury             6942"
            ]
          },
          "metadata": {
            "tags": []
          },
          "execution_count": 50
        }
      ]
    },
    {
      "metadata": {
        "id": "wt77n5_sNgY4",
        "colab_type": "code",
        "colab": {}
      },
      "cell_type": "code",
      "source": [
        ""
      ],
      "execution_count": 0,
      "outputs": []
    },
    {
      "metadata": {
        "id": "fif8UKRbuW5y",
        "colab_type": "code",
        "colab": {
          "base_uri": "https://localhost:8080/",
          "height": 477
        },
        "outputId": "854c1c16-81c0-4463-a458-cc2f60ee5393"
      },
      "cell_type": "code",
      "source": [
        "\n",
        "compound_df.plot(kind = \"bar\")\n",
        "plt.title(\"Yelp Review Sentiment by Lawyer Type\")\n",
        "plt.ylabel(\"Review Polarity\")"
      ],
      "execution_count": 51,
      "outputs": [
        {
          "output_type": "execute_result",
          "data": {
            "text/plain": [
              "Text(0,0.5,'Review Polarity')"
            ]
          },
          "metadata": {
            "tags": []
          },
          "execution_count": 51
        },
        {
          "output_type": "display_data",
          "data": {
            "image/png": "[encoded data removed]",
            "text/plain": [
              "<matplotlib.figure.Figure at 0x7f8c3e4fdbe0>"
            ]
          },
          "metadata": {
            "tags": []
          }
        }
      ]
    },
    {
      "metadata": {
        "id": "tfWyZ8KSyw6l",
        "colab_type": "code",
        "colab": {
          "base_uri": "https://localhost:8080/",
          "height": 477
        },
        "outputId": "81bbe047-37ea-4a01-8017-5a6076dc755a"
      },
      "cell_type": "code",
      "source": [
        "merged.plot(kind = \"bar\")\n",
        "plt.title(\"Yelp Reviews by Lawyer Type\")\n",
        "plt.ylabel(\"Number of Reviews\")"
      ],
      "execution_count": 52,
      "outputs": [
        {
          "output_type": "execute_result",
          "data": {
            "text/plain": [
              "Text(0,0.5,'Number of Reviews')"
            ]
          },
          "metadata": {
            "tags": []
          },
          "execution_count": 52
        },
        {
          "output_type": "display_data",
          "data": {
            "image/png": "[encoded data removed]",
            "text/plain": [
              "<matplotlib.figure.Figure at 0x7f8c3e192048>"
            ]
          },
          "metadata": {
            "tags": []
          }
        }
      ]
    },
    {
      "metadata": {
        "id": "AN4-FqLuWMBc",
        "colab_type": "code",
        "colab": {}
      },
      "cell_type": "code",
      "source": [
        "# Configure gmaps with API key\n",
        "gmaps.configure(api_key=gkey)"
      ],
      "execution_count": 0,
      "outputs": []
    },
    {
      "metadata": {
        "id": "7LIjqZmnWWGP",
        "colab_type": "code",
        "colab": {}
      },
      "cell_type": "code",
      "source": [
        "locations = file[[\"Lat\", \"Long\"]].astype(float)\n",
        "weight = file[\"Review Count\"].astype(float)"
      ],
      "execution_count": 0,
      "outputs": []
    },
    {
      "metadata": {
        "id": "_i6t8doWW4Y1",
        "colab_type": "code",
        "colab": {
          "base_uri": "https://localhost:8080/",
          "height": 34
        },
        "outputId": "7ad7e20d-2ebc-4491-93b3-b1190ce8b166"
      },
      "cell_type": "code",
      "source": [
        "# Create a review location markers\n",
        "fig = gmaps.figure()\n",
        "\n",
        "heat_layer = gmaps.heatmap_layer(locations, weights=weight, \n",
        "                                 dissipating=False, max_intensity=100,\n",
        "                                 point_radius = 1)\n",
        "\n",
        "# Adjust heat_layer setting to help with heatmap dissipating on zoom\n",
        "heat_layer.dissipating = False\n",
        "heat_layer.max_intensity = 100\n",
        "heat_layer.point_radius = 1\n",
        "\n",
        "fig.add_layer(heat_layer)\n",
        "\n",
        "fig"
      ],
      "execution_count": 19,
      "outputs": [
        {
          "output_type": "display_data",
          "data": {
            "application/vnd.jupyter.widget-view+json": {
              "model_id": "02425157ab97479592abc6626f9bb1d9",
              "version_minor": 0,
              "version_major": 2
            },
            "text/plain": [
              "Figure(layout=FigureLayout(height='420px'))"
            ]
          },
          "metadata": {
            "tags": []
          }
        }
      ]
    },
    {
      "metadata": {
        "id": "7QA6JkjBWY1V",
        "colab_type": "code",
        "colab": {
          "base_uri": "https://localhost:8080/",
          "height": 34
        },
        "outputId": "f595bede-a00f-45cf-aaf3-364e6f2f3615"
      },
      "cell_type": "code",
      "source": [
        "# Create a review count Heatmap layer\n",
        "gmaps.configure(api_key=gkey)\n",
        "\n",
        "marker_layer = gmaps.symbol_layer(\n",
        "    locations, fill_color='green', stroke_color='green', scale=2\n",
        ")\n",
        "fig2 = gmaps.figure()\n",
        "fig2.add_layer(marker_layer)\n",
        "fig2"
      ],
      "execution_count": 17,
      "outputs": [
        {
          "output_type": "display_data",
          "data": {
            "application/vnd.jupyter.widget-view+json": {
              "model_id": "e60a00e824294285989a8a93151b8074",
              "version_minor": 0,
              "version_major": 2
            },
            "text/plain": [
              "Figure(layout=FigureLayout(height='420px'))"
            ]
          },
          "metadata": {
            "tags": []
          }
        }
      ]
    }
  ]
}