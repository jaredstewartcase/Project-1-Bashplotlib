{
 "cells": [
  {
   "cell_type": "code",
   "execution_count": 4,
   "metadata": {},
   "outputs": [],
   "source": [
    "import pandas as pd\n",
    "import json\n",
    "import numpy as np\n",
    "import requests\n",
    "%matplotlib inline\n",
    "import matplotlib.pyplot as plt\n",
    "import gmaps\n",
    "from config import gkey"
   ]
  },
  {
   "cell_type": "code",
   "execution_count": 5,
   "metadata": {},
   "outputs": [
    {
     "data": {
      "text/html": [
       "<div>\n",
       "<style scoped>\n",
       "    .dataframe tbody tr th:only-of-type {\n",
       "        vertical-align: middle;\n",
       "    }\n",
       "\n",
       "    .dataframe tbody tr th {\n",
       "        vertical-align: top;\n",
       "    }\n",
       "\n",
       "    .dataframe thead th {\n",
       "        text-align: right;\n",
       "    }\n",
       "</style>\n",
       "<table border=\"1\" class=\"dataframe\">\n",
       "  <thead>\n",
       "    <tr style=\"text-align: right;\">\n",
       "      <th></th>\n",
       "      <th>Unnamed: 0</th>\n",
       "      <th>Business ID</th>\n",
       "      <th>Review</th>\n",
       "      <th>Compound</th>\n",
       "      <th>Business Name</th>\n",
       "      <th>Business Alias</th>\n",
       "      <th>Category</th>\n",
       "      <th>City</th>\n",
       "      <th>State</th>\n",
       "      <th>ZipCode</th>\n",
       "      <th>Lat</th>\n",
       "      <th>Long</th>\n",
       "      <th>Review Count</th>\n",
       "      <th>Rating</th>\n",
       "    </tr>\n",
       "  </thead>\n",
       "  <tbody>\n",
       "    <tr>\n",
       "      <th>0</th>\n",
       "      <td>0</td>\n",
       "      <td>t7LBdL4HifGJlMbn92WX7g</td>\n",
       "      <td>If you are looking for a reliable, TRUSTWORTHY...</td>\n",
       "      <td>0.6523</td>\n",
       "      <td>Garretson &amp; Toth</td>\n",
       "      <td>garretson-and-toth-olathe</td>\n",
       "      <td>criminaldefense</td>\n",
       "      <td>Olathe</td>\n",
       "      <td>KS</td>\n",
       "      <td>66061.0</td>\n",
       "      <td>38.881749</td>\n",
       "      <td>-94.819128</td>\n",
       "      <td>3</td>\n",
       "      <td>5.0</td>\n",
       "    </tr>\n",
       "    <tr>\n",
       "      <th>1</th>\n",
       "      <td>1</td>\n",
       "      <td>t7LBdL4HifGJlMbn92WX7g</td>\n",
       "      <td>Tyler is an excellent, knowledgeable, consider...</td>\n",
       "      <td>0.8591</td>\n",
       "      <td>Garretson &amp; Toth</td>\n",
       "      <td>garretson-and-toth-olathe</td>\n",
       "      <td>criminaldefense</td>\n",
       "      <td>Olathe</td>\n",
       "      <td>KS</td>\n",
       "      <td>66061.0</td>\n",
       "      <td>38.881749</td>\n",
       "      <td>-94.819128</td>\n",
       "      <td>3</td>\n",
       "      <td>5.0</td>\n",
       "    </tr>\n",
       "    <tr>\n",
       "      <th>2</th>\n",
       "      <td>2</td>\n",
       "      <td>t7LBdL4HifGJlMbn92WX7g</td>\n",
       "      <td>My teenage son has made some pretty typical 's...</td>\n",
       "      <td>-0.5994</td>\n",
       "      <td>Garretson &amp; Toth</td>\n",
       "      <td>garretson-and-toth-olathe</td>\n",
       "      <td>criminaldefense</td>\n",
       "      <td>Olathe</td>\n",
       "      <td>KS</td>\n",
       "      <td>66061.0</td>\n",
       "      <td>38.881749</td>\n",
       "      <td>-94.819128</td>\n",
       "      <td>3</td>\n",
       "      <td>5.0</td>\n",
       "    </tr>\n",
       "    <tr>\n",
       "      <th>3</th>\n",
       "      <td>3</td>\n",
       "      <td>XCuOMk5_1L2g8MWA89AnWw</td>\n",
       "      <td>Dustin Crook truly cares about his clients and...</td>\n",
       "      <td>0.8957</td>\n",
       "      <td>Biesterveld &amp; Crook</td>\n",
       "      <td>biesterveld-and-crook-olathe-2</td>\n",
       "      <td>personal_injury</td>\n",
       "      <td>Olathe</td>\n",
       "      <td>KS</td>\n",
       "      <td>66061.0</td>\n",
       "      <td>38.881777</td>\n",
       "      <td>-94.818943</td>\n",
       "      <td>2</td>\n",
       "      <td>5.0</td>\n",
       "    </tr>\n",
       "    <tr>\n",
       "      <th>4</th>\n",
       "      <td>4</td>\n",
       "      <td>XCuOMk5_1L2g8MWA89AnWw</td>\n",
       "      <td>No matter the obstacles, no matter the time th...</td>\n",
       "      <td>0.2006</td>\n",
       "      <td>Biesterveld &amp; Crook</td>\n",
       "      <td>biesterveld-and-crook-olathe-2</td>\n",
       "      <td>personal_injury</td>\n",
       "      <td>Olathe</td>\n",
       "      <td>KS</td>\n",
       "      <td>66061.0</td>\n",
       "      <td>38.881777</td>\n",
       "      <td>-94.818943</td>\n",
       "      <td>2</td>\n",
       "      <td>5.0</td>\n",
       "    </tr>\n",
       "  </tbody>\n",
       "</table>\n",
       "</div>"
      ],
      "text/plain": [
       "   Unnamed: 0             Business ID  \\\n",
       "0           0  t7LBdL4HifGJlMbn92WX7g   \n",
       "1           1  t7LBdL4HifGJlMbn92WX7g   \n",
       "2           2  t7LBdL4HifGJlMbn92WX7g   \n",
       "3           3  XCuOMk5_1L2g8MWA89AnWw   \n",
       "4           4  XCuOMk5_1L2g8MWA89AnWw   \n",
       "\n",
       "                                              Review  Compound  \\\n",
       "0  If you are looking for a reliable, TRUSTWORTHY...    0.6523   \n",
       "1  Tyler is an excellent, knowledgeable, consider...    0.8591   \n",
       "2  My teenage son has made some pretty typical 's...   -0.5994   \n",
       "3  Dustin Crook truly cares about his clients and...    0.8957   \n",
       "4  No matter the obstacles, no matter the time th...    0.2006   \n",
       "\n",
       "         Business Name                  Business Alias         Category  \\\n",
       "0     Garretson & Toth       garretson-and-toth-olathe  criminaldefense   \n",
       "1     Garretson & Toth       garretson-and-toth-olathe  criminaldefense   \n",
       "2     Garretson & Toth       garretson-and-toth-olathe  criminaldefense   \n",
       "3  Biesterveld & Crook  biesterveld-and-crook-olathe-2  personal_injury   \n",
       "4  Biesterveld & Crook  biesterveld-and-crook-olathe-2  personal_injury   \n",
       "\n",
       "     City State  ZipCode        Lat       Long  Review Count  Rating  \n",
       "0  Olathe    KS  66061.0  38.881749 -94.819128             3     5.0  \n",
       "1  Olathe    KS  66061.0  38.881749 -94.819128             3     5.0  \n",
       "2  Olathe    KS  66061.0  38.881749 -94.819128             3     5.0  \n",
       "3  Olathe    KS  66061.0  38.881777 -94.818943             2     5.0  \n",
       "4  Olathe    KS  66061.0  38.881777 -94.818943             2     5.0  "
      ]
     },
     "execution_count": 5,
     "metadata": {},
     "output_type": "execute_result"
    }
   ],
   "source": [
    "reviews = pd.read_csv(\"more_reviews_removed_below_1000.csv\")\n",
    "reviews.head()"
   ]
  },
  {
   "cell_type": "code",
   "execution_count": 6,
   "metadata": {},
   "outputs": [
    {
     "data": {
      "text/html": [
       "<div>\n",
       "<style scoped>\n",
       "    .dataframe tbody tr th:only-of-type {\n",
       "        vertical-align: middle;\n",
       "    }\n",
       "\n",
       "    .dataframe tbody tr th {\n",
       "        vertical-align: top;\n",
       "    }\n",
       "\n",
       "    .dataframe thead th {\n",
       "        text-align: right;\n",
       "    }\n",
       "</style>\n",
       "<table border=\"1\" class=\"dataframe\">\n",
       "  <thead>\n",
       "    <tr style=\"text-align: right;\">\n",
       "      <th></th>\n",
       "      <th>Business ID</th>\n",
       "      <th>Category</th>\n",
       "      <th>Compound</th>\n",
       "    </tr>\n",
       "  </thead>\n",
       "  <tbody>\n",
       "    <tr>\n",
       "      <th>0</th>\n",
       "      <td>t7LBdL4HifGJlMbn92WX7g</td>\n",
       "      <td>criminaldefense</td>\n",
       "      <td>0.6523</td>\n",
       "    </tr>\n",
       "    <tr>\n",
       "      <th>1</th>\n",
       "      <td>t7LBdL4HifGJlMbn92WX7g</td>\n",
       "      <td>criminaldefense</td>\n",
       "      <td>0.8591</td>\n",
       "    </tr>\n",
       "    <tr>\n",
       "      <th>2</th>\n",
       "      <td>t7LBdL4HifGJlMbn92WX7g</td>\n",
       "      <td>criminaldefense</td>\n",
       "      <td>-0.5994</td>\n",
       "    </tr>\n",
       "    <tr>\n",
       "      <th>3</th>\n",
       "      <td>XCuOMk5_1L2g8MWA89AnWw</td>\n",
       "      <td>personal_injury</td>\n",
       "      <td>0.8957</td>\n",
       "    </tr>\n",
       "    <tr>\n",
       "      <th>4</th>\n",
       "      <td>XCuOMk5_1L2g8MWA89AnWw</td>\n",
       "      <td>personal_injury</td>\n",
       "      <td>0.2006</td>\n",
       "    </tr>\n",
       "  </tbody>\n",
       "</table>\n",
       "</div>"
      ],
      "text/plain": [
       "              Business ID         Category  Compound\n",
       "0  t7LBdL4HifGJlMbn92WX7g  criminaldefense    0.6523\n",
       "1  t7LBdL4HifGJlMbn92WX7g  criminaldefense    0.8591\n",
       "2  t7LBdL4HifGJlMbn92WX7g  criminaldefense   -0.5994\n",
       "3  XCuOMk5_1L2g8MWA89AnWw  personal_injury    0.8957\n",
       "4  XCuOMk5_1L2g8MWA89AnWw  personal_injury    0.2006"
      ]
     },
     "execution_count": 6,
     "metadata": {},
     "output_type": "execute_result"
    }
   ],
   "source": [
    "category_df = reviews[[\"Business ID\", \"Category\", \"Compound\"]]\n",
    "category_df.head()"
   ]
  },
  {
   "cell_type": "code",
   "execution_count": 7,
   "metadata": {},
   "outputs": [
    {
     "data": {
      "text/html": [
       "<div>\n",
       "<style scoped>\n",
       "    .dataframe tbody tr th:only-of-type {\n",
       "        vertical-align: middle;\n",
       "    }\n",
       "\n",
       "    .dataframe tbody tr th {\n",
       "        vertical-align: top;\n",
       "    }\n",
       "\n",
       "    .dataframe thead th {\n",
       "        text-align: right;\n",
       "    }\n",
       "</style>\n",
       "<table border=\"1\" class=\"dataframe\">\n",
       "  <thead>\n",
       "    <tr style=\"text-align: right;\">\n",
       "      <th></th>\n",
       "      <th>Compound</th>\n",
       "    </tr>\n",
       "    <tr>\n",
       "      <th>Category</th>\n",
       "      <th></th>\n",
       "    </tr>\n",
       "  </thead>\n",
       "  <tbody>\n",
       "    <tr>\n",
       "      <th>personal_injury</th>\n",
       "      <td>0.264369</td>\n",
       "    </tr>\n",
       "    <tr>\n",
       "      <th>divorce</th>\n",
       "      <td>0.277964</td>\n",
       "    </tr>\n",
       "    <tr>\n",
       "      <th>duilawyers</th>\n",
       "      <td>0.303004</td>\n",
       "    </tr>\n",
       "    <tr>\n",
       "      <th>criminaldefense</th>\n",
       "      <td>0.317702</td>\n",
       "    </tr>\n",
       "    <tr>\n",
       "      <th>bankruptcy</th>\n",
       "      <td>0.325310</td>\n",
       "    </tr>\n",
       "  </tbody>\n",
       "</table>\n",
       "</div>"
      ],
      "text/plain": [
       "                 Compound\n",
       "Category                 \n",
       "personal_injury  0.264369\n",
       "divorce          0.277964\n",
       "duilawyers       0.303004\n",
       "criminaldefense  0.317702\n",
       "bankruptcy       0.325310"
      ]
     },
     "execution_count": 7,
     "metadata": {},
     "output_type": "execute_result"
    }
   ],
   "source": [
    "compound_df = category_df.groupby(\"Category\").mean().sort_values(\"Compound\")\n",
    "compound_df.reset_index()\n",
    "compound_df.head()"
   ]
  },
  {
   "cell_type": "code",
   "execution_count": 8,
   "metadata": {},
   "outputs": [
    {
     "data": {
      "text/html": [
       "<div>\n",
       "<style scoped>\n",
       "    .dataframe tbody tr th:only-of-type {\n",
       "        vertical-align: middle;\n",
       "    }\n",
       "\n",
       "    .dataframe tbody tr th {\n",
       "        vertical-align: top;\n",
       "    }\n",
       "\n",
       "    .dataframe thead th {\n",
       "        text-align: right;\n",
       "    }\n",
       "</style>\n",
       "<table border=\"1\" class=\"dataframe\">\n",
       "  <thead>\n",
       "    <tr style=\"text-align: right;\">\n",
       "      <th></th>\n",
       "      <th>Business ID</th>\n",
       "      <th>Review Count</th>\n",
       "    </tr>\n",
       "  </thead>\n",
       "  <tbody>\n",
       "    <tr>\n",
       "      <th>0</th>\n",
       "      <td>-03IpI8s4LZ9Z-6gHXcTAw</td>\n",
       "      <td>12</td>\n",
       "    </tr>\n",
       "    <tr>\n",
       "      <th>1</th>\n",
       "      <td>-0_T6Y1UHTUy4zEtzVckjg</td>\n",
       "      <td>2</td>\n",
       "    </tr>\n",
       "    <tr>\n",
       "      <th>2</th>\n",
       "      <td>-0eXQbuEyjPIuw9jsYL-CA</td>\n",
       "      <td>1</td>\n",
       "    </tr>\n",
       "    <tr>\n",
       "      <th>3</th>\n",
       "      <td>-0jpGBPIrI1qMg8SscP1yg</td>\n",
       "      <td>1</td>\n",
       "    </tr>\n",
       "    <tr>\n",
       "      <th>4</th>\n",
       "      <td>-14hEo2sCi5BjI9yJzWe9A</td>\n",
       "      <td>1</td>\n",
       "    </tr>\n",
       "  </tbody>\n",
       "</table>\n",
       "</div>"
      ],
      "text/plain": [
       "              Business ID  Review Count\n",
       "0  -03IpI8s4LZ9Z-6gHXcTAw            12\n",
       "1  -0_T6Y1UHTUy4zEtzVckjg             2\n",
       "2  -0eXQbuEyjPIuw9jsYL-CA             1\n",
       "3  -0jpGBPIrI1qMg8SscP1yg             1\n",
       "4  -14hEo2sCi5BjI9yJzWe9A             1"
      ]
     },
     "execution_count": 8,
     "metadata": {},
     "output_type": "execute_result"
    }
   ],
   "source": [
    "review_df = reviews[[\"Category\", \"Business ID\", \"Review Count\"]]\n",
    "review_count = review_df.groupby([\"Business ID\"])[\"Review Count\"].unique()\n",
    "review_count = review_count.str[0]\n",
    "review_count\n",
    "\n",
    "review_df = pd.DataFrame(review_count)\n",
    "review_df = review_df.reset_index()\n",
    "review_df.head()"
   ]
  },
  {
   "cell_type": "code",
   "execution_count": 9,
   "metadata": {},
   "outputs": [
    {
     "data": {
      "text/html": [
       "<div>\n",
       "<style scoped>\n",
       "    .dataframe tbody tr th:only-of-type {\n",
       "        vertical-align: middle;\n",
       "    }\n",
       "\n",
       "    .dataframe tbody tr th {\n",
       "        vertical-align: top;\n",
       "    }\n",
       "\n",
       "    .dataframe thead th {\n",
       "        text-align: right;\n",
       "    }\n",
       "</style>\n",
       "<table border=\"1\" class=\"dataframe\">\n",
       "  <thead>\n",
       "    <tr style=\"text-align: right;\">\n",
       "      <th></th>\n",
       "      <th>Review Count</th>\n",
       "    </tr>\n",
       "    <tr>\n",
       "      <th>Category</th>\n",
       "      <th></th>\n",
       "    </tr>\n",
       "  </thead>\n",
       "  <tbody>\n",
       "    <tr>\n",
       "      <th>realestatelawyers</th>\n",
       "      <td>1411</td>\n",
       "    </tr>\n",
       "    <tr>\n",
       "      <th>immigrationlawyers</th>\n",
       "      <td>1418</td>\n",
       "    </tr>\n",
       "    <tr>\n",
       "      <th>bankruptcy</th>\n",
       "      <td>1799</td>\n",
       "    </tr>\n",
       "    <tr>\n",
       "      <th>duilawyers</th>\n",
       "      <td>2154</td>\n",
       "    </tr>\n",
       "    <tr>\n",
       "      <th>criminaldefense</th>\n",
       "      <td>4148</td>\n",
       "    </tr>\n",
       "    <tr>\n",
       "      <th>divorce</th>\n",
       "      <td>4232</td>\n",
       "    </tr>\n",
       "    <tr>\n",
       "      <th>personal_injury</th>\n",
       "      <td>6942</td>\n",
       "    </tr>\n",
       "  </tbody>\n",
       "</table>\n",
       "</div>"
      ],
      "text/plain": [
       "                    Review Count\n",
       "Category                        \n",
       "realestatelawyers           1411\n",
       "immigrationlawyers          1418\n",
       "bankruptcy                  1799\n",
       "duilawyers                  2154\n",
       "criminaldefense             4148\n",
       "divorce                     4232\n",
       "personal_injury             6942"
      ]
     },
     "execution_count": 9,
     "metadata": {},
     "output_type": "execute_result"
    }
   ],
   "source": [
    "category_df_nocompound = reviews[[\"Business ID\", \"Category\"]]\n",
    "\n",
    "merged = category_df_nocompound.merge(review_df, on = \"Business ID\", how = \"outer\")\n",
    "merged = merged.groupby([\"Business ID\", \"Category\"])[\"Review Count\"].unique()\n",
    "merged = merged.str[0]\n",
    "merged = pd.DataFrame(merged)\n",
    "merged = merged.groupby(\"Category\").sum()\n",
    "merged = merged.sort_values(\"Review Count\")\n",
    "\n",
    "merged.tail(10 )"
   ]
  },
  {
   "cell_type": "code",
   "execution_count": 10,
   "metadata": {},
   "outputs": [],
   "source": [
    "locations = reviews[[\"Lat\", \"Long\"]].astype(float)\n",
    "weight = reviews[\"Review Count\"].astype(float)"
   ]
  },
  {
   "cell_type": "code",
   "execution_count": 11,
   "metadata": {},
   "outputs": [
    {
     "data": {
      "application/vnd.jupyter.widget-view+json": {
       "model_id": "9aa93ce90cc14cb8be1fe349df6d7ce2",
       "version_major": 2,
       "version_minor": 0
      },
      "text/plain": [
       "Figure(layout=FigureLayout(height='420px'))"
      ]
     },
     "metadata": {},
     "output_type": "display_data"
    }
   ],
   "source": [
    "# Create a review count Heatmap layer\n",
    "gmaps.configure(api_key=gkey)\n",
    "\n",
    "marker_layer = gmaps.symbol_layer(\n",
    "    locations, fill_color='green', stroke_color='green', scale=2\n",
    ")\n",
    "fig2 = gmaps.figure()\n",
    "fig2.add_layer(marker_layer)\n",
    "fig2"
   ]
  },
  {
   "cell_type": "code",
   "execution_count": 12,
   "metadata": {},
   "outputs": [
    {
     "data": {
      "application/vnd.jupyter.widget-view+json": {
       "model_id": "6feab50d3af74314bd794a072edf602e",
       "version_major": 2,
       "version_minor": 0
      },
      "text/plain": [
       "Figure(layout=FigureLayout(height='420px'))"
      ]
     },
     "metadata": {},
     "output_type": "display_data"
    }
   ],
   "source": [
    "# Create a review location markers\n",
    "fig = gmaps.figure()\n",
    "\n",
    "heat_layer = gmaps.heatmap_layer(locations, weights=weight, \n",
    "                                 dissipating=False, max_intensity=100,\n",
    "                                 point_radius = 1)\n",
    "\n",
    "# Adjust heat_layer setting to help with heatmap dissipating on zoom\n",
    "heat_layer.dissipating = False\n",
    "heat_layer.max_intensity = 100\n",
    "heat_layer.point_radius = 1\n",
    "\n",
    "fig.add_layer(heat_layer)\n",
    "\n",
    "fig"
   ]
  },
  {
   "cell_type": "code",
   "execution_count": 26,
   "metadata": {
    "scrolled": true
   },
   "outputs": [
    {
     "data": {
      "image/png": "[encoded data removed]",
      "text/plain": [
       "<Figure size 432x288 with 1 Axes>"
      ]
     },
     "metadata": {},
     "output_type": "display_data"
    }
   ],
   "source": [
    "merged.plot(kind = \"bar\")\n",
    "plt.title(\"Yelp Reviews by Lawyer Type\")\n",
    "plt.ylabel(\"Number of Reviews\")\n",
    "plt.xticks(rotation=30)\n",
    "plt.savefig(\"Images/reviews_by_lawyer_type_bar.png\", bbox_inches=\"tight\")"
   ]
  },
  {
   "cell_type": "code",
   "execution_count": 27,
   "metadata": {},
   "outputs": [
    {
     "data": {
      "image/png": "[encoded data removed]",
      "text/plain": [
       "<Figure size 432x288 with 1 Axes>"
      ]
     },
     "metadata": {},
     "output_type": "display_data"
    }
   ],
   "source": [
    "compound_df.plot(kind = \"bar\")\n",
    "plt.title(\"Yelp Review Sentiment by Lawyer Type\")\n",
    "plt.ylabel(\"Review Polarity\")\n",
    "plt.xticks(rotation=30)\n",
    "plt.savefig(\"Images/sentiment_by_type_bar.png\", bbox_inches=\"tight\")"
   ]
  },
  {
   "cell_type": "code",
   "execution_count": 15,
   "metadata": {},
   "outputs": [
    {
     "data": {
      "image/png": "[encoded data removed]",
      "text/plain": [
       "<Figure size 432x288 with 1 Axes>"
      ]
     },
     "metadata": {},
     "output_type": "display_data"
    }
   ],
   "source": [
    "ratings_grouped = reviews.groupby(reviews[\"Rating\"]).mean()\n",
    "\n",
    "stars = [\"1 Star\", \"1.5 Stars\", \"2 Stars\", \"2.5 Stars\", \"3 Stars\", \"3.5 Stars\", \"4 Stars\", \"4.5 Stars\", \"5 Stars\"]\n",
    "\n",
    "plt.plot(stars, ratings_grouped[\"Compound\"], marker=\"o\")\n",
    "plt.xticks(rotation=30)\n",
    "plt.title(\"Average Sentiment based on Rating\")\n",
    "plt.xlabel(\"Rating\")\n",
    "plt.ylabel(\"Average Compound Sentiment Value\")\n",
    "\n",
    "plt.savefig(\"Images/sentiment_average.png\", bbox_inches=\"tight\")\n",
    "\n",
    "plt.show()"
   ]
  },
  {
   "cell_type": "code",
   "execution_count": 16,
   "metadata": {},
   "outputs": [
    {
     "data": {
      "image/png": "[encoded data removed]",
      "text/plain": [
       "<Figure size 432x288 with 1 Axes>"
      ]
     },
     "metadata": {},
     "output_type": "display_data"
    }
   ],
   "source": [
    "# Personal Injury Lawyers\n",
    "ratings_personalin = reviews.loc[reviews[\"Category\"] == \"personal_injury\"]\n",
    "ratings_grouped_personalin = ratings_personalin.groupby(ratings_personalin[\"Rating\"]).mean()\n",
    "\n",
    "#Set general x axis values\n",
    "stars = [\"1 Star\", \"1.5 Stars\", \"2 Stars\", \"2.5 Stars\", \"3 Stars\", \"3.5 Stars\", \"4 Stars\", \"4.5 Stars\", \"5 Stars\"]\n",
    "\n",
    "#Criminal Defense Lawyers\n",
    "ratings_crimedef = reviews.loc[reviews[\"Category\"] == \"criminaldefense\"]\n",
    "ratings_grouped_crimedef = ratings_crimedef.groupby(ratings_crimedef[\"Rating\"]).mean()\n",
    "\n",
    "stars_crimedef = [\"1 Star\", \"2 Stars\", \"2.5 Stars\", \"3 Stars\", \"3.5 Stars\", \"4 Stars\", \"4.5 Stars\", \"5 Stars\"]\n",
    "\n",
    "#Divorce Lawyers\n",
    "ratings_divorce = reviews.loc[reviews[\"Category\"] == \"divorce\"]\n",
    "ratings_grouped_divorce = ratings_divorce.groupby(ratings_divorce[\"Rating\"]).mean()\n",
    "\n",
    "#DUI Lawyers\n",
    "ratings_dui = reviews.loc[reviews[\"Category\"] == \"duilawyers\"]\n",
    "ratings_grouped_dui = ratings_dui.groupby(ratings_dui[\"Rating\"]).mean()\n",
    "\n",
    "stars_dui = [\"1 Star\", \"2.5 Stars\", \"3 Stars\", \"3.5 Stars\", \"4 Stars\", \"4.5 Stars\", \"5 Stars\"]\n",
    "\n",
    "#Immigration Lawyers\n",
    "ratings_imm = reviews.loc[reviews[\"Category\"] == \"immigrationlawyers\"]\n",
    "ratings_grouped_imm = ratings_imm.groupby(ratings_imm[\"Rating\"]).mean()\n",
    "\n",
    "stars_imm = [\"1 Star\", \"2.5 Stars\", \"3 Stars\", \"3.5 Stars\", \"4 Stars\", \"4.5 Stars\", \"5 Stars\"]\n",
    "\n",
    "#Plot\n",
    "plt.plot(stars, ratings_grouped[\"Compound\"], '-o', alpha=0.5, label=\"Overall Average\")\n",
    "plt.scatter(stars, ratings_grouped_personalin[\"Compound\"], c=\"yellow\", label=\"Personal Injury\")\n",
    "plt.scatter(stars_crimedef, ratings_grouped_crimedef[\"Compound\"], label=\"Criminal Defense\")\n",
    "plt.scatter(stars, ratings_grouped_divorce[\"Compound\"], label=\"Divorce\")\n",
    "plt.scatter(stars_dui, ratings_grouped_dui[\"Compound\"], label=\"DUI\")\n",
    "plt.scatter(stars_imm, ratings_grouped_imm[\"Compound\"], label=\"Immigration\")\n",
    "plt.xticks(rotation=30)\n",
    "plt.title(\"Sentiment Analysis of Top 5 Types of Lawyers on Yelp Based on Rating\")\n",
    "plt.legend()\n",
    "plt.xlabel(\"Rating\")\n",
    "plt.ylabel(\"Average Compound Sentiment Value\")\n",
    "\n",
    "plt.savefig(\"Images/sentiment_analysis_top_5.png\", bbox_inches=\"tight\")\n",
    "\n",
    "plt.show()"
   ]
  },
  {
   "cell_type": "code",
   "execution_count": 17,
   "metadata": {},
   "outputs": [],
   "source": [
    "file = \"more_reviews_removed_below_1000.csv\"\n",
    "file_pd = pd.read_csv(file, encoding=\"ISO-8859-1\")"
   ]
  },
  {
   "cell_type": "code",
   "execution_count": 18,
   "metadata": {},
   "outputs": [
    {
     "data": {
      "text/html": [
       "<div>\n",
       "<style scoped>\n",
       "    .dataframe tbody tr th:only-of-type {\n",
       "        vertical-align: middle;\n",
       "    }\n",
       "\n",
       "    .dataframe tbody tr th {\n",
       "        vertical-align: top;\n",
       "    }\n",
       "\n",
       "    .dataframe thead th {\n",
       "        text-align: right;\n",
       "    }\n",
       "</style>\n",
       "<table border=\"1\" class=\"dataframe\">\n",
       "  <thead>\n",
       "    <tr style=\"text-align: right;\">\n",
       "      <th></th>\n",
       "      <th>Business Count</th>\n",
       "      <th>Average Rating</th>\n",
       "      <th>Average Compound</th>\n",
       "      <th>Review Count</th>\n",
       "    </tr>\n",
       "    <tr>\n",
       "      <th>Category</th>\n",
       "      <th></th>\n",
       "      <th></th>\n",
       "      <th></th>\n",
       "      <th></th>\n",
       "    </tr>\n",
       "  </thead>\n",
       "  <tbody>\n",
       "    <tr>\n",
       "      <th>bankruptcy</th>\n",
       "      <td>741</td>\n",
       "      <td>4.13</td>\n",
       "      <td>0.33</td>\n",
       "      <td>4869</td>\n",
       "    </tr>\n",
       "    <tr>\n",
       "      <th>criminaldefense</th>\n",
       "      <td>1001</td>\n",
       "      <td>4.50</td>\n",
       "      <td>0.32</td>\n",
       "      <td>11866</td>\n",
       "    </tr>\n",
       "    <tr>\n",
       "      <th>divorce</th>\n",
       "      <td>1920</td>\n",
       "      <td>3.88</td>\n",
       "      <td>0.28</td>\n",
       "      <td>11112</td>\n",
       "    </tr>\n",
       "    <tr>\n",
       "      <th>duilawyers</th>\n",
       "      <td>224</td>\n",
       "      <td>4.56</td>\n",
       "      <td>0.30</td>\n",
       "      <td>6384</td>\n",
       "    </tr>\n",
       "    <tr>\n",
       "      <th>immigrationlawyers</th>\n",
       "      <td>314</td>\n",
       "      <td>4.70</td>\n",
       "      <td>0.48</td>\n",
       "      <td>4017</td>\n",
       "    </tr>\n",
       "    <tr>\n",
       "      <th>personal_injury</th>\n",
       "      <td>1821</td>\n",
       "      <td>4.39</td>\n",
       "      <td>0.26</td>\n",
       "      <td>18314</td>\n",
       "    </tr>\n",
       "    <tr>\n",
       "      <th>realestatelawyers</th>\n",
       "      <td>423</td>\n",
       "      <td>4.48</td>\n",
       "      <td>0.36</td>\n",
       "      <td>4062</td>\n",
       "    </tr>\n",
       "  </tbody>\n",
       "</table>\n",
       "</div>"
      ],
      "text/plain": [
       "                    Business Count Average Rating Average Compound  \\\n",
       "Category                                                             \n",
       "bankruptcy                     741           4.13             0.33   \n",
       "criminaldefense               1001           4.50             0.32   \n",
       "divorce                       1920           3.88             0.28   \n",
       "duilawyers                     224           4.56             0.30   \n",
       "immigrationlawyers             314           4.70             0.48   \n",
       "personal_injury               1821           4.39             0.26   \n",
       "realestatelawyers              423           4.48             0.36   \n",
       "\n",
       "                    Review Count  \n",
       "Category                          \n",
       "bankruptcy                  4869  \n",
       "criminaldefense            11866  \n",
       "divorce                    11112  \n",
       "duilawyers                  6384  \n",
       "immigrationlawyers          4017  \n",
       "personal_injury            18314  \n",
       "realestatelawyers           4062  "
      ]
     },
     "execution_count": 18,
     "metadata": {},
     "output_type": "execute_result"
    }
   ],
   "source": [
    "# group by categories\n",
    "file_category = file_pd[[\"Category\",\"Rating\",\"Compound\"]]\n",
    "file_category_1 = file_pd[[\"Category\",\"Review Count\"]]\n",
    "\n",
    "category_business_count = file_category.groupby([\"Category\"]).count()\n",
    "category_mean =  file_category.groupby([\"Category\"]).mean()\n",
    "category_review_count = file_category_1.groupby([\"Category\"]).sum()\n",
    "\n",
    "merge_table_1 = pd.merge(category_business_count, category_mean, on=\"Category\")\n",
    "merge_table_2 = pd.merge(merge_table_1, category_review_count, on=\"Category\")\n",
    "del merge_table_2[\"Compound_x\"]\n",
    "organized_category = merge_table_2.rename(columns={\"Rating_x\":\"Business Count\", \n",
    "                                                   \"Rating_y\":\"Average Rating\", \"Compound_y\":\"Average Compound\"})\n",
    "organized_category[\"Average Rating\"] = organized_category[\"Average Rating\"].map(\"{:.2f}\".format)\n",
    "organized_category[\"Average Compound\"] = organized_category[\"Average Compound\"].map(\"{:.2f}\".format)\n",
    "# del organized_category[\"Business Count\"]\n",
    "# del organized_category[\"Review Count\"]\n",
    "organized_category"
   ]
  },
  {
   "cell_type": "code",
   "execution_count": 20,
   "metadata": {},
   "outputs": [
    {
     "data": {
      "text/html": [
       "<div>\n",
       "<style scoped>\n",
       "    .dataframe tbody tr th:only-of-type {\n",
       "        vertical-align: middle;\n",
       "    }\n",
       "\n",
       "    .dataframe tbody tr th {\n",
       "        vertical-align: top;\n",
       "    }\n",
       "\n",
       "    .dataframe thead th {\n",
       "        text-align: right;\n",
       "    }\n",
       "</style>\n",
       "<table border=\"1\" class=\"dataframe\">\n",
       "  <thead>\n",
       "    <tr style=\"text-align: right;\">\n",
       "      <th></th>\n",
       "      <th>Business Count</th>\n",
       "      <th>Average Rating</th>\n",
       "      <th>Average Compound</th>\n",
       "      <th>Review Count</th>\n",
       "    </tr>\n",
       "    <tr>\n",
       "      <th>State</th>\n",
       "      <th></th>\n",
       "      <th></th>\n",
       "      <th></th>\n",
       "      <th></th>\n",
       "    </tr>\n",
       "  </thead>\n",
       "  <tbody>\n",
       "    <tr>\n",
       "      <th>AK</th>\n",
       "      <td>12</td>\n",
       "      <td>4.33</td>\n",
       "      <td>0.51</td>\n",
       "      <td>22</td>\n",
       "    </tr>\n",
       "    <tr>\n",
       "      <th>AL</th>\n",
       "      <td>62</td>\n",
       "      <td>3.71</td>\n",
       "      <td>0.20</td>\n",
       "      <td>123</td>\n",
       "    </tr>\n",
       "    <tr>\n",
       "      <th>AR</th>\n",
       "      <td>26</td>\n",
       "      <td>3.96</td>\n",
       "      <td>0.40</td>\n",
       "      <td>52</td>\n",
       "    </tr>\n",
       "    <tr>\n",
       "      <th>AZ</th>\n",
       "      <td>111</td>\n",
       "      <td>4.50</td>\n",
       "      <td>0.31</td>\n",
       "      <td>714</td>\n",
       "    </tr>\n",
       "    <tr>\n",
       "      <th>CA</th>\n",
       "      <td>1430</td>\n",
       "      <td>4.65</td>\n",
       "      <td>0.35</td>\n",
       "      <td>36642</td>\n",
       "    </tr>\n",
       "  </tbody>\n",
       "</table>\n",
       "</div>"
      ],
      "text/plain": [
       "       Business Count Average Rating Average Compound  Review Count\n",
       "State                                                              \n",
       "AK                 12           4.33             0.51            22\n",
       "AL                 62           3.71             0.20           123\n",
       "AR                 26           3.96             0.40            52\n",
       "AZ                111           4.50             0.31           714\n",
       "CA               1430           4.65             0.35         36642"
      ]
     },
     "execution_count": 20,
     "metadata": {},
     "output_type": "execute_result"
    }
   ],
   "source": [
    "# group by states\n",
    "file_state = file_pd[[\"State\",\"Rating\",\"Compound\"]]\n",
    "file_state_1 = file_pd[[\"State\",\"Review Count\"]]\n",
    "state_business_count = file_state.groupby([\"State\"]).count()\n",
    "state_mean =  file_state.groupby([\"State\"]).mean()\n",
    "state_review_count = file_state_1.groupby([\"State\"]).sum()\n",
    "merge_table_3 = pd.merge(state_business_count, state_mean, on=\"State\")\n",
    "merge_table_4 = pd.merge(merge_table_3, state_review_count, on=\"State\")\n",
    "del merge_table_4[\"Compound_x\"]\n",
    "organized_state = merge_table_4.rename(columns={\"Rating_x\":\"Business Count\", \"Rating_y\":\"Average Rating\"\n",
    "                                               , \"Compound_y\":\"Average Compound\"})\n",
    "organized_state[\"Average Rating\"] = organized_state[\"Average Rating\"].map(\"{:.2f}\".format)\n",
    "organized_state[\"Average Compound\"] = organized_state[\"Average Compound\"].map(\"{:.2f}\".format)\n",
    "# del organized_state[\"Business Count\"]\n",
    "# del organized_state[\"Review Count\"]\n",
    "# organized_state = organized_state.sort_values[\"Review Count\"]\n",
    "organized_state.head()"
   ]
  },
  {
   "cell_type": "code",
   "execution_count": 21,
   "metadata": {},
   "outputs": [
    {
     "data": {
      "image/png": "[encoded data removed]",
      "text/plain": [
       "<Figure size 432x288 with 1 Axes>"
      ]
     },
     "metadata": {},
     "output_type": "display_data"
    }
   ],
   "source": [
    "# Chart by category by average rating\n",
    "organized_category[\"Average Rating\"]=pd.to_numeric(organized_category[\"Average Rating\"])\n",
    "organized_category.iloc[organized_category[\"Average Rating\"].argsort()]\n",
    "organized_category[\"Average Rating\"].plot(kind=\"bar\")\n",
    "plt.title(\"Yelp Average Rating by Lawyer Type\")\n",
    "plt.ylabel(\"Rating Polarity\")\n",
    "plt.xticks(rotation=45)\n",
    "plt.tight_layout()\n",
    "# plt.figure(figsize=(10, 10))  # width:20, height:3\n",
    "plt.savefig(\"Images/rating_by_category1.png\")\n",
    "\n",
    "plt.show()"
   ]
  },
  {
   "cell_type": "code",
   "execution_count": 22,
   "metadata": {},
   "outputs": [
    {
     "data": {
      "image/png": "[encoded data removed]",
      "text/plain": [
       "<Figure size 432x288 with 1 Axes>"
      ]
     },
     "metadata": {},
     "output_type": "display_data"
    }
   ],
   "source": [
    "# Chart by state by average rating\n",
    "organized_state[\"Average Rating\"]=pd.to_numeric(organized_state[\"Average Rating\"])\n",
    "organized_state[\"Average Rating\"].plot(kind=\"bar\")\n",
    "plt.title(\"Yelp Average Rating by State\")\n",
    "plt.ylabel(\"Rating Polarity\")\n",
    "plt.savefig(\"Images/rating_by_state1.png\")\n",
    "plt.show()"
   ]
  },
  {
   "cell_type": "code",
   "execution_count": 23,
   "metadata": {},
   "outputs": [
    {
     "data": {
      "text/html": [
       "<div>\n",
       "<style scoped>\n",
       "    .dataframe tbody tr th:only-of-type {\n",
       "        vertical-align: middle;\n",
       "    }\n",
       "\n",
       "    .dataframe tbody tr th {\n",
       "        vertical-align: top;\n",
       "    }\n",
       "\n",
       "    .dataframe thead th {\n",
       "        text-align: right;\n",
       "    }\n",
       "</style>\n",
       "<table border=\"1\" class=\"dataframe\">\n",
       "  <thead>\n",
       "    <tr style=\"text-align: right;\">\n",
       "      <th></th>\n",
       "      <th>Business Count</th>\n",
       "      <th>Average Rating</th>\n",
       "      <th>Average Compound</th>\n",
       "      <th>Review Count</th>\n",
       "    </tr>\n",
       "    <tr>\n",
       "      <th>Category</th>\n",
       "      <th></th>\n",
       "      <th></th>\n",
       "      <th></th>\n",
       "      <th></th>\n",
       "    </tr>\n",
       "  </thead>\n",
       "  <tbody>\n",
       "    <tr>\n",
       "      <th>immigrationlawyers</th>\n",
       "      <td>314</td>\n",
       "      <td>4.70</td>\n",
       "      <td>0.48</td>\n",
       "      <td>4017</td>\n",
       "    </tr>\n",
       "    <tr>\n",
       "      <th>realestatelawyers</th>\n",
       "      <td>423</td>\n",
       "      <td>4.48</td>\n",
       "      <td>0.36</td>\n",
       "      <td>4062</td>\n",
       "    </tr>\n",
       "    <tr>\n",
       "      <th>bankruptcy</th>\n",
       "      <td>741</td>\n",
       "      <td>4.13</td>\n",
       "      <td>0.33</td>\n",
       "      <td>4869</td>\n",
       "    </tr>\n",
       "    <tr>\n",
       "      <th>criminaldefense</th>\n",
       "      <td>1001</td>\n",
       "      <td>4.50</td>\n",
       "      <td>0.32</td>\n",
       "      <td>11866</td>\n",
       "    </tr>\n",
       "    <tr>\n",
       "      <th>duilawyers</th>\n",
       "      <td>224</td>\n",
       "      <td>4.56</td>\n",
       "      <td>0.30</td>\n",
       "      <td>6384</td>\n",
       "    </tr>\n",
       "    <tr>\n",
       "      <th>divorce</th>\n",
       "      <td>1920</td>\n",
       "      <td>3.88</td>\n",
       "      <td>0.28</td>\n",
       "      <td>11112</td>\n",
       "    </tr>\n",
       "    <tr>\n",
       "      <th>personal_injury</th>\n",
       "      <td>1821</td>\n",
       "      <td>4.39</td>\n",
       "      <td>0.26</td>\n",
       "      <td>18314</td>\n",
       "    </tr>\n",
       "  </tbody>\n",
       "</table>\n",
       "</div>"
      ],
      "text/plain": [
       "                    Business Count  Average Rating Average Compound  \\\n",
       "Category                                                              \n",
       "immigrationlawyers             314            4.70             0.48   \n",
       "realestatelawyers              423            4.48             0.36   \n",
       "bankruptcy                     741            4.13             0.33   \n",
       "criminaldefense               1001            4.50             0.32   \n",
       "duilawyers                     224            4.56             0.30   \n",
       "divorce                       1920            3.88             0.28   \n",
       "personal_injury               1821            4.39             0.26   \n",
       "\n",
       "                    Review Count  \n",
       "Category                          \n",
       "immigrationlawyers          4017  \n",
       "realestatelawyers           4062  \n",
       "bankruptcy                  4869  \n",
       "criminaldefense            11866  \n",
       "duilawyers                  6384  \n",
       "divorce                    11112  \n",
       "personal_injury            18314  "
      ]
     },
     "execution_count": 23,
     "metadata": {},
     "output_type": "execute_result"
    }
   ],
   "source": [
    "top_category = organized_category.sort_values(\"Review Count\", ascending=False)\n",
    "top_category = organized_category.sort_values(\"Average Compound\", ascending=False)\n",
    "top_category"
   ]
  },
  {
   "cell_type": "code",
   "execution_count": 24,
   "metadata": {},
   "outputs": [
    {
     "name": "stderr",
     "output_type": "stream",
     "text": [
      "C:\\Users\\knkay\\anaconda\\anaconda3\\lib\\site-packages\\ipykernel\\__main__.py:3: SettingWithCopyWarning: \n",
      "A value is trying to be set on a copy of a slice from a DataFrame.\n",
      "Try using .loc[row_indexer,col_indexer] = value instead\n",
      "\n",
      "See the caveats in the documentation: http://pandas.pydata.org/pandas-docs/stable/indexing.html#indexing-view-versus-copy\n",
      "  app.launch_new_instance()\n"
     ]
    },
    {
     "data": {
      "image/png": "[encoded data removed]",
      "text/plain": [
       "<Figure size 432x288 with 1 Axes>"
      ]
     },
     "metadata": {},
     "output_type": "display_data"
    }
   ],
   "source": [
    "top_state = organized_state.sort_values(\"Review Count\", ascending=False)\n",
    "top_rating = top_state.head(10)\n",
    "top_rating[\"Average Rating\"]=pd.to_numeric(top_rating[\"Average Rating\"])\n",
    "top_rating = top_rating.sort_values(\"Average Rating\", ascending=False)\n",
    "# top_rating\n",
    "# top_rating.iloc[top_rating[\"Average Rating\"].argsort()]\n",
    "top_rating[\"Average Rating\"].plot(kind=\"bar\")\n",
    "plt.title(\"Yelp Average Rating by State\")\n",
    "plt.ylabel(\"Rating\")\n",
    "plt.savefig(\"Images/top_10_rating.png\")\n",
    "plt.show()\n"
   ]
  },
  {
   "cell_type": "code",
   "execution_count": 25,
   "metadata": {},
   "outputs": [
    {
     "name": "stderr",
     "output_type": "stream",
     "text": [
      "C:\\Users\\knkay\\anaconda\\anaconda3\\lib\\site-packages\\ipykernel\\__main__.py:3: SettingWithCopyWarning: \n",
      "A value is trying to be set on a copy of a slice from a DataFrame.\n",
      "Try using .loc[row_indexer,col_indexer] = value instead\n",
      "\n",
      "See the caveats in the documentation: http://pandas.pydata.org/pandas-docs/stable/indexing.html#indexing-view-versus-copy\n",
      "  app.launch_new_instance()\n"
     ]
    },
    {
     "data": {
      "image/png": "[encoded data removed]",
      "text/plain": [
       "<Figure size 432x288 with 1 Axes>"
      ]
     },
     "metadata": {},
     "output_type": "display_data"
    }
   ],
   "source": [
    "top_state = organized_state.sort_values(\"Review Count\", ascending=False)\n",
    "top_compound = top_state.head(10)\n",
    "top_compound[\"Average Compound\"]=pd.to_numeric(top_compound[\"Average Compound\"])\n",
    "top_compound = top_compound.sort_values(\"Average Compound\", ascending=False)\n",
    "top_compound[\"Average Compound\"].plot(kind=\"bar\")\n",
    "plt.title(\"Yelp Average Compound by State\")\n",
    "plt.ylabel(\"Compound\")\n",
    "plt.savefig(\"Images/top_10_compound.png\")\n",
    "plt.show()"
   ]
  },
  {
   "cell_type": "code",
   "execution_count": null,
   "metadata": {},
   "outputs": [],
   "source": []
  }
 ],
 "metadata": {
  "kernelspec": {
   "display_name": "Python [conda env:anaconda3]",
   "language": "python",
   "name": "conda-env-anaconda3-py"
  },
  "language_info": {
   "codemirror_mode": {
    "name": "ipython",
    "version": 3
   },
   "file_extension": ".py",
   "mimetype": "text/x-python",
   "name": "python",
   "nbconvert_exporter": "python",
   "pygments_lexer": "ipython3",
   "version": "3.6.5"
  }
 },
 "nbformat": 4,
 "nbformat_minor": 2
}
